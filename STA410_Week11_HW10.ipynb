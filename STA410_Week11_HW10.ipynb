{
  "cells": [
    {
      "cell_type": "markdown",
      "metadata": {
        "id": "view-in-github",
        "colab_type": "text"
      },
      "source": [
        "<a href=\"https://colab.research.google.com/github/javmencia/COBWEBfiles/blob/main/STA410_Week11_HW10.ipynb\" target=\"_parent\"><img src=\"https://colab.research.google.com/assets/colab-badge.svg\" alt=\"Open In Colab\"/></a>"
      ]
    },
    {
      "cell_type": "markdown",
      "metadata": {
        "id": "04oAqzRdpdEZ"
      },
      "source": [
        "# STA410 Week 11 Homework 10 (4 points)\n",
        "\n",
        "Due 12 PM Match 21 (before class starts)\n",
        "\n",
        "1. **Paired or individual assignment.** Work may be shared within pairs without restriction, but collaborations beyond the pairs must be limited to \"hints\" and may not share complete solutions.\n",
        "\n",
        "\n",
        "2. You are encouraged to adapt code you find available online **(including using AI chat bot suppport tools)** into your notebook; however, if you do so please provide a link to the utilized resource. ***If you don't and multiple students have the same answer an academic integrity proceeding may be undertaken.***  \n",
        "\n",
        "\n",
        "3. **Library imports are limited** to only libraries imported in the starter code and the [standard python modules](https://docs.python.org/3/py-modindex.html). Automated code tests that fail because of additional library imports will not recieve credit. Unless a problem instructs differently you may use any functions available from the Python stdlib and the libraries imported in the starter code.\n",
        "\n",
        "\n",
        "<details><summary><span style=\"color: blue; text-decoration: underline; cursor: pointer;\">Additional Details</span></summary>\n",
        "\n",
        "> **Do not delete, replace, or rearranged cells.** This erases `cell ids` upon which automated code tests are based. The \"Edit > Undo Delete Cells\" option in the notebook editor might be helpful; otherwise, redownload the notebook (so it has the correct required `cells ids`) and repopulate it with your answers (assuming you don't overwrite them when you redownload the notebook). ***You may add cells for scratch work*** but if required answers are not submitted through the provided cells where the answers are requested your answers may not be marked. Due to potential problems with `cell ids` **the only environments supported in this class are** [UofT JupyterHub](https://datatools.utoronto.ca/) or [Google Colab](https://colab.research.google.com/)\n",
        ">\n",
        "> **No jupyter shortcut commands** such as `! python script.py 10` or `%%timeit` may be included in the final submission as they will cause subsequent automated code tests to fail.\n",
        ">\n",
        "> **No cells may have any runtime errors** because this causes subsequent automated code tests to fail and you will not get marks for tests which fail because of previous runtime errors. ***Restart and re-run the cells in your notebook to ensure there are no runtime errors before submitting your work.***\n",
        "\n",
        "</details>\n"
      ]
    },
    {
      "cell_type": "markdown",
      "metadata": {
        "id": "YVosrieLp59d"
      },
      "source": [
        "## Student and Contribution\n",
        "\n",
        "Are you working with a partner to complete this assignment?  \n",
        "- If not, assign  the value of `None` into the variable `Partner`.\n",
        "- If so, assign the name of the person you worked with into the variable `Partner`.\n",
        "    - Format the name as `\"<First Name> <Last Name>\"` as a `str` type, e.g., \"Scott Schwartz\"."
      ]
    },
    {
      "cell_type": "code",
      "execution_count": 1,
      "metadata": {
        "id": "ZrTVMofDp6Ii"
      },
      "outputs": [],
      "source": [
        "Partner = None\n",
        "# This cell will produce a runtime error until you assign a value to this variable"
      ]
    },
    {
      "cell_type": "markdown",
      "metadata": {
        "id": "8mmjvHjSqMDi"
      },
      "source": [
        "What was your contribution in completing the code for this assignments problems?  \n",
        "Assign one of the following into each of the `Contribution` variable below.\n",
        "\n",
        "- `\"I worked alone\"`\n",
        "- `\"I contributed more than my partner\"`\n",
        "- `\"My partner and I contributed equally\"`\n",
        "- `\"I contributed less than my partner\"`\n",
        "- `\"I did not contribute\"`"
      ]
    },
    {
      "cell_type": "code",
      "execution_count": 2,
      "metadata": {
        "id": "eiHnbgbpqItj"
      },
      "outputs": [],
      "source": [
        "Contribution = \"I worked alone\"\n",
        "# This cell will produce a runtime error until you assign a value to this variable"
      ]
    },
    {
      "cell_type": "code",
      "execution_count": 3,
      "metadata": {
        "id": "0SVkJV58A5Tp"
      },
      "outputs": [],
      "source": [
        "# you may use any functions available from the following library imports\n",
        "\n",
        "import statsmodels.api as sm\n",
        "import numpy as np\n",
        "import matplotlib.pyplot as plt\n",
        "plt.style.use('seaborn-v0_8-colorblind')\n",
        "# and others as needed\n",
        "# such as to download example data sets to work with\n"
      ]
    },
    {
      "cell_type": "markdown",
      "metadata": {
        "id": "mSLfr4vQIiUo"
      },
      "source": [
        "## Part 1: Logistic Regression\n",
        "---\n",
        "\n",
        "In **exponential family** form the **log likelihood** of the **logistic regression** (**generalized linear model**) is\n",
        "<br><br>\n",
        "\n",
        "$$\\require{cancel}\n",
        "\\large l(\\beta) = \\overbrace{y^T \\underbrace{X\\beta}_{\\theta} - \\mathbf{1}^T \\underbrace{\\log \\left(1 + \\exp(X\\beta) \\right)}_{g(\\theta=X\\beta)}}^{\\log f(y|\\theta) \\;= \\;[y^T\\theta - b(\\theta)]/\\overset{\\textrm{dispersion}}{\\cancel{a(\\phi)}^1}+\\overset{\\textrm{normalizing}}{\\overset{\\textrm{constant}}{\\cancel{c(y,\\phi)}}}}$$\n",
        "\n",
        "where $\\Pr(y_i=1) = \\underset{\\text{a property of the exponential family}}{E[y_i] = \\frac{d}{d\\theta_i} \\overbrace{\\log \\left(1 + \\exp(\\theta_i) \\right)}^{g(\\theta_i)\\;=\\;g(x_i^T\\beta)}} = \\frac{\\exp(\\theta_i)}{1 + \\exp(\\theta_i)} = \\frac{1}{1 + \\exp(-\\theta_i)}$\n",
        "\n",
        "with the **natural parameter** $\\theta_i =  x_i^T\\beta = \\log\\left(\\frac{\\Pr(y_i=1)}{1-\\Pr(y_i=1)} \\right) = \\log \\left( \\frac{\\frac{\\exp(\\theta_i)}{1 + \\exp(\\theta_i)}}{\\frac{1}{1 + \\exp(\\theta_i)}} \\right) = \\log(\\exp(\\theta_i)) = \\theta_i$ the **log odds**\n"
      ]
    },
    {
      "cell_type": "markdown",
      "metadata": {
        "id": "K6609gVkI3sS"
      },
      "source": [
        "## Part 2: Gradients and Hessians\n",
        "\n",
        "The **gradient** and **Hessian** of the **log likelihood** of **logistic regression** are  \n",
        "\n",
        "$$\n",
        "  \\begin{align*}\n",
        "  \\nabla_\\beta l(\\beta)  & = {}X^Ty - X^T\\frac{\\exp(X\\beta)}{1+\\exp(X\\beta)} = X^Ty - X^T\\frac{1}{1+\\exp(-X\\beta)} \\\\\n",
        "  & = {} X^T(y-E[Y])  \\\\\\\\\n",
        "  % ***Information*** and\n",
        "  %I(\\beta) & = {} E\\left[ X^T (Y-E[Y])(Y-E[Y])^T X\\right]\n",
        "  % = X^T Cov\\left(Y\\right)X{} = X^T\\overbrace{\\text{diag}(E[Y_i](1-E[Y_i]))}^{\\text{diag}(p_i(1-p_i)) \\text{ for i.i.d. Bernoulli}}X \\\\\n",
        " % & = - E[H_{l(\\beta)}] = -H_{l(\\beta)}  \\\\\\\\\n",
        "  H_{l(\\beta)} & = {} \\nabla_\\beta(\\nabla_\\beta l(\\beta))^T = \\nabla_\\beta (-[E[Y_1],E[Y_2],\\cdots, E[Y_n]])X \\\\\n",
        "  & = {} -[(1+\\exp(-x_1^T\\beta))^{-1}, (1+\\exp(-x_2^T\\beta))^{-1}, \\cdots, (1+\\exp(-x_n^T\\beta))^{-1}]X \\\\\n",
        "  & = {} -[x_1\\frac{\\exp(-x_1^T\\beta)}{(1+\\exp(-x_1^T\\beta))^{2}}, x_2\\frac{\\exp(-x_2^T\\beta)}{(1+\\exp(-x_2^T\\beta))^{2}}, \\cdots, x_n\\frac{\\exp(-x_n^T\\beta)}{(1+\\exp(-x_n^T\\beta))^{2}}]X \\\\\n",
        "  & = {} -[x_1W_{11},x_2W_{22}, \\cdots, x_nW_{nn}] X\\\\\n",
        "  & = {} -X^TWX \\quad \\text{ where } \\quad W_{ij}=0 \\text{ for } i\\not=j \\\\\n",
        "  & \\quad\\quad\\quad\\quad\\quad\\quad\\quad\\, \\text{ and } \\quad W_{ii} = \\frac{\\exp(-x_i^T\\beta)}{\\left(1+\\exp(-x_i^T\\beta)\\right)^2} \\\\\n",
        "  &  \\quad\\quad\\quad\\quad\\quad\\quad\\quad\\quad\\quad\\quad\\quad\\, = \\frac{1}{1+\\exp(-x_i^T\\beta)}\\frac{\\exp(-x_i^T\\beta)}{1+\\exp(-x_i^T\\beta)} = E[Y_i](1-E[Y_i])\n",
        "  \\end{align*}$$\n",
        "\n",
        "**Newton's method** update here thus is\n",
        "\n",
        "$\\beta^{(t+1)} = \\beta^{(t)} - H_{l(\\beta^{(t)})}^{-1}\\nabla_\\beta l(\\beta^{(t)}) = \\beta^{(t)} + (X^T\\overset{(t)}{W}X)^{-1} X^T(y-\\overset{(t)}{E}[Y])$\n",
        "\n",
        "- where $\\overset{(t)}{W}$ and $\\overset{(t)}{E}[Y]$ indicate dependency on $\\beta^{(t)}$\n",
        "- and where the update should be computed as `𝛽[t+1] = 𝛽[t] + np.linalg.solve(X.T@W@X, y-E_Y)`\n"
      ]
    },
    {
      "cell_type": "markdown",
      "metadata": {
        "id": "HqU-K1O49fyf"
      },
      "source": [
        "## Part 3: Iteratively Reweighted Least Squares (IRLS)\n",
        "\n",
        "---\n",
        "\n",
        "**Newton's** update\n",
        "\n",
        "$\n",
        "\\begin{align*}\n",
        "\\beta^{(t+1)} &={} \\beta^{(t)} + (X^T\\overset{(t)}{W}X)^{-1} X^T(y-\\overset{(t)}{E}[Y]) \\\\&={} (X^T\\overset{(t)}{W}X)^{-1}\\left((X^T\\overset{(t)}{W}X)\\beta^{(t)} + X^T(y-\\overset{(t)}{E}[Y])\\right)\\\\\n",
        "&={} (X^T\\overset{(t)}{W}X)^{-1}\\left((X^T\\overset{(t)}{W}X)\\beta^{(t)} + X^T\\overset{(t)}{W}\\overset{(t)}{W}{}^{-1}(y-\\overset{(t)}{E}[Y] )\\right)\\\\\n",
        "&={} (X^T\\overset{(t)}{W}X)^{-1}X^T\\overset{(t)}{W} \\left(X\\beta^{(t)} + \\overset{(t)}{W}{}^{-1}(y-\\overset{(t)}{E}[Y])\\right)\\\\\n",
        "&={} (X^T\\overset{(t)}{W}X)^{-1}X^T\\overset{(t)}{W} \\tilde y^{(t)} \\\\\n",
        "\\end{align*}$\n",
        "\n",
        "which is the solution of a **weighted least squares problem** $\\min_\\beta ||\\tilde y^{(t)} - X \\beta^{(t+1)} ||_2^{\\overset{(t)}{W}} = \\min_\\beta  (\\tilde y^{(t)} - X \\beta)^T {\\overset{(t)}{W}} (\\tilde y^{(t)} - X \\beta)$ with\n",
        "- weights $\\overset{(t)}{W}_{ii} = \\overset{(t)}{E}[Y_i](1-\\overset{(t)}{E}[Y_i])$\n",
        "- covariates $Z$ and\n",
        "- outcome $\\tilde y^{(t)} = X\\beta^{(t)} + \\overset{(t)}{W}{}^{-1}(y-\\overset{(t)}{E}[Y])$\n",
        "- with $\\overset{(t)}{E}[Y_i] = \\frac{1}{1+\\exp(-x_i^T\\beta)}$\n"
      ]
    },
    {
      "cell_type": "markdown",
      "metadata": {
        "id": "DQ2xxGezI3sT"
      },
      "source": [
        "## Part 4: Gauss Newton\n",
        "\n",
        "While the **nonlinear least squares** problem of fitting **logistic regression** with **least squares**\n",
        "\n",
        "$$\\Bigg|\\Bigg| \\; y - \\frac{1}{1+\\exp(-X\\beta)} \\; \\Bigg|\\Bigg|_2^2$$\n",
        "\n",
        "does not initially look appropriate,\n",
        "**Newton's method** above shows that there is a **weighted least squares** problem (leading to the **IRLS method**) that is approriate for this problem. In a similar spirit, the first order Taylor series approximation of the nonlinear function around a current value $\\beta^{(t)}$ actualizes the interative **Gauss-Newton** method\n",
        "\n",
        "$$\\begin{align*}\n",
        "& \\quad \\; \\min_\\beta \\Bigg|\\Bigg| \\; y - \\frac{1}{1+\\exp(-X\\beta^{(t)})} - J \\frac{1}{1+\\exp(-X\\beta^{(t)})}(\\beta - \\beta^{(t)}) \\; \\Bigg|\\Bigg|_2^2 \\\\\n",
        "&={} \\min_\\beta \\Bigg|\\Bigg| \\; y - \\overset{(t)}{E}[Y] - \\overset{(t)}{W} X (\\beta - \\beta^{(t)}) \\; \\Bigg|\\Bigg|_2^2 = \\min_\\beta \\Bigg|\\Bigg| \\; \\overset{(t)}{W} X \\beta^{(t)} + y - \\overset{(t)}{E}[Y] - \\overset{(t)}{W} X \\beta  \\; \\Bigg|\\Bigg|_2^{\\overset{(t)}{W}{}^{-1}}\n",
        "\\end{align*}$$\n",
        "\n",
        "which thus leads to the exactly identical **weighted least squares** problem and **IRLS** solution.  \n"
      ]
    },
    {
      "cell_type": "markdown",
      "metadata": {
        "id": "GJ9PD3Yo37_3"
      },
      "source": [
        "## Part 5: Implementation?\n",
        "\n",
        "The CC for this week will involve the implementation of this and similar optimization algorithms for what turn out to be quite similar problems. It will ease your CC experience if you are familiar and confortable with the constructions presented here.\n",
        "\n",
        "- Can you implement a **Newton's method** optimization algorithm to fit a logistic regression?\n",
        "- Can you fit a logistic regression model using only least squres fits in an **IRLS** manner?\n",
        "- Can you fit a logistic regression model using **gradient descent**?\n",
        "- Can you confirm the correctness of your implementations with `statsmodels`?\n",
        "\n"
      ]
    },
    {
      "cell_type": "code",
      "execution_count": null,
      "metadata": {
        "id": "4hRj1iyVomYP"
      },
      "outputs": [],
      "source": []
    }
  ],
  "metadata": {
    "colab": {
      "provenance": [],
      "include_colab_link": true
    },
    "kernelspec": {
      "display_name": "Python 3 (ipykernel)",
      "language": "python",
      "name": "python3"
    },
    "language_info": {
      "codemirror_mode": {
        "name": "ipython",
        "version": 3
      },
      "file_extension": ".py",
      "mimetype": "text/x-python",
      "name": "python",
      "nbconvert_exporter": "python",
      "pygments_lexer": "ipython3",
      "version": "3.11.4"
    }
  },
  "nbformat": 4,
  "nbformat_minor": 0
}
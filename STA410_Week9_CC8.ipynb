{
  "cells": [
    {
      "cell_type": "markdown",
      "metadata": {
        "id": "view-in-github",
        "colab_type": "text"
      },
      "source": [
        "<a href=\"https://colab.research.google.com/github/javmencia/COBWEBfiles/blob/main/STA410_Week9_CC8.ipynb\" target=\"_parent\"><img src=\"https://colab.research.google.com/assets/colab-badge.svg\" alt=\"Open In Colab\"/></a>"
      ]
    },
    {
      "cell_type": "markdown",
      "id": "b708cb5e",
      "metadata": {
        "id": "b708cb5e"
      },
      "source": [
        "# STA410 Week 9 Coding Challenge (4 points)\n",
        "\n",
        "If you experience technical issues while working on this coding challenge, post your issue on [piazza](https://piazza.com/class/m5h6cuchjnbns/) [https://piazza.com/utoronto.ca/winter2025/sta410]. Any messages that need to be communicated to the class during the coding challenge will be posted in the same way.\n",
        "\n",
        "## Rules\n",
        "\n",
        "1. **This is an individual assignment.** You are not permitted to engage in any form of contact with other live human beings while working on this challenge.\n",
        "\n",
        "\n",
        "2. You are encouraged to seek support and adapt code you find available online **(including using AI chat bot suppport tools)** into your notebook; however, if you do so please provide a link to the utilized resource. ***If you don't and multiple students have the same answer an academic integrity proceeding may be undertaken.***  \n",
        "\n",
        "\n",
        "3. The same instructions as given in the homework regarding notebook autotesting requirements apply.\n"
      ]
    },
    {
      "cell_type": "markdown",
      "id": "f7588d82",
      "metadata": {
        "id": "f7588d82"
      },
      "source": [
        "## Understand and agree to follow the rules of the Coding Challenge"
      ]
    },
    {
      "cell_type": "code",
      "execution_count": 1,
      "id": "731041c8",
      "metadata": {
        "id": "731041c8"
      },
      "outputs": [],
      "source": [
        "q0 = \"I, Javier Mencia, understand \"+\\\n",
        "     \"and will follow by the rules of the coding challenge.\"\n",
        "# Failure to confirm will result in a loss of points"
      ]
    },
    {
      "cell_type": "code",
      "execution_count": 2,
      "id": "185293b4",
      "metadata": {
        "id": "185293b4"
      },
      "outputs": [],
      "source": [
        "# you may use any functions available from the following library imports\n",
        "\n",
        "import statsmodels.api as sm\n",
        "import numpy as np\n",
        "import matplotlib.pyplot as plt\n",
        "plt.style.use('seaborn-v0_8-colorblind')\n",
        "import pandas as pd\n"
      ]
    },
    {
      "cell_type": "markdown",
      "id": "eb60af28",
      "metadata": {
        "id": "eb60af28"
      },
      "source": [
        "## Lasso: least absolute shrinkage and selection operator</sub>\n",
        "\n",
        "**Lasso regression** and **ridge regression** are **machine learning** (predictive modeling) techniques that incorporate **shrinkage regularization** into ***linear model regression*** by using the **penalized least squares** objective functions with $\\lambda>0$\n",
        "\n",
        "$$\\underset{\\text{Lasso Regression $L_1$ coefficient penalty}}{\\underline{\\min_{\\beta|\\lambda} \\sum_i (y_i-x_i^T \\beta)^2 + \\lambda \\sum_k |\\beta_k|}}\\quad\\quad \\underset{\\text{Ridge Regression $L_2^2$ coefficient penalty}}{\\underline{\\min_{\\beta|\\lambda} \\sum_i (y_i-x_i^T \\beta)^2 + \\lambda \\beta^T\\beta}}$$\n",
        "\n",
        "Focussing on **Lasso regression**, the objective function is **convex** (because the sum of two **convex** functions is **convex**), and specifically **separablely convex** because it's of the form\n",
        "\n",
        "$$g(\\beta) + \\sum_{k=0}^K g_k(\\beta_k)$$\n",
        "\n",
        "where $g$ is **differentiable** everywhere and each $g_k$ is **convex**. When a function is **separablely convex** then it can be optimized by **coordinate descent**.\n"
      ]
    },
    {
      "cell_type": "markdown",
      "id": "2dc6579f",
      "metadata": {
        "id": "2dc6579f"
      },
      "source": [
        "### Part 1 (1 point): coordinate descent specification\n",
        "\n",
        "1. Suppose the data is standardized such that $\\bar y = 0$ and each column is centered so that $\\bar X_{\\cdot j}=0$ and scaled so that $\\frac{X_{\\cdot j}^TX_{\\cdot j}}{n}=1$. Of the options below, which is the simplest expression (requiring the fewest computations) for the objective function\n",
        "\n",
        "    $$(y-X_{\\cdot -j}\\beta_{-j} - X_{\\cdot j}\\beta_{j})^T(y-X_{\\cdot -j}\\beta_{-j} - X_{\\cdot j}\\beta_{j}) + \\lambda |\\beta_{j}|$$\n",
        "\n",
        "    for $\\beta_{j}$ that could be used to optimize for $\\beta_{j}$ using **coordinate descent**?<br><br>\n",
        "\n",
        "    1. (A) $\\quad n\\beta_j^2 - 2\\beta_j \\sum_i x_{ij} \\left( y_i - \\sum_{k\\neq j} x_{ik}\\beta_k \\right) + (y-X_{\\cdot -j}\\beta_{-j})^T(y-X_{\\cdot -j}\\beta_{-j}) + \\lambda |\\beta_{j}|$  \n",
        "    2. (B) $\\quad n\\beta_j^2 - 2\\beta_j \\sum_i x_{ij} \\left( y_i - \\sum_{k\\neq j} x_{ik}\\beta_k \\right) + (y-X_{\\cdot -j}\\beta_{-j})^T(y-X_{\\cdot -j}\\beta_{-j})$  \n",
        "\n",
        "    3. (C) $\\quad n\\beta_j^2 - 2\\beta_j \\sum_i x_{ij} \\left( y_i - \\sum_{k\\neq j} x_{ik}\\beta_k \\right) + \\lambda |\\beta_{j}|$  \n",
        "\n",
        "    4. (D) $\\quad n\\beta_j^2 - 2\\beta_j \\sum_i x_{ij} \\left( y_i - \\sum_{k\\neq j} x_{ik}\\beta_k \\right)$<br><br>\n",
        "\n",
        "2. For $\\lambda>0$, which of the following conditions for $\\phi_j = \\sum_i x_{ij} \\left( y_i - \\sum_{k\\neq j} x_{ik}\\beta_k \\right)$ cannot lead to negative values for the following?\n",
        "\n",
        "    $$- 2\\beta_j \\sum_i x_{ij} \\left( y_i - \\sum_{k\\neq j} x_{ik}\\beta_k \\right) + \\lambda |\\beta_{j}|$$\n",
        "\n",
        "    1. (A) $\\quad\\phi_j > \\frac{\\lambda}{2}$\n",
        "    2. (B) $\\quad\\phi_j < -\\frac{\\lambda}{2}$\n",
        "    3. (C) $\\quad\\phi_j \\in \\left[ - \\frac{\\lambda}{2}, \\frac{\\lambda}{2}\\right]$\n",
        "    4. (D) $\\quad$None of the above<br><br>\n",
        "    \n",
        "3. The previous problem demonstrates that the function\n",
        "\n",
        "   $$n\\beta_j^2 - 2\\beta_j \\sum_i x_{ij} \\left( y_i - \\sum_{k\\neq j} x_{ik}\\beta_k \\right) + \\lambda |\\beta_{j}|$$\n",
        "\n",
        "    cannot be negative for a specific constraint on $\\phi_j$. What value of $\\beta_{j}$ then would minimize this function under this constraint?<br><br>\n",
        "\n",
        "    1. (A) $\\quad\\beta_j=0$\n",
        "    2. (B) $\\quad$Some $\\beta_j>0$\n",
        "    3. (C) $\\quad$Some $\\beta_j<0$\n",
        "    4. (D) $\\quad$Some cominbation of the above<br><br>\n",
        "    \n",
        "4. Suppose $\\beta_j \\times \\epsilon > 0$ for $\\epsilon>0$. Can $n\\beta_j^2 - \\beta_j \\times \\epsilon$ be negative for some value of $\\beta_j$?\n",
        "\n",
        "    1. (A) $\\quad$Yes\n",
        "    2. (B) $\\quad$No\n",
        "    3. (C) $\\quad$Only for certain values of $n$\n",
        "    4. (D) $\\quad$Only for certain values of $\\epsilon$<br><br>\n",
        "    \n",
        "5. The last problem demonstrates the possible sign of the first two terms of the function  \n",
        "\n",
        "    $$\\rlap{\\overbrace{\\phantom{n\\beta_j^2 - 2\\beta_j \\sum_i \\left( y_i - \\sum_{k\\neq j} x_{ik}\\beta_k \\right)}}} n\\beta_j^2 - \\underbrace{ 2\\beta_j \\sum_i x_{ij} \\left( y_i - \\sum_{k\\neq j} x_{ik}\\beta_k \\right) + \\lambda |\\beta_{j}|}$$\n",
        "\n",
        "     while the considerations of a previous problem demonstrate the sign of the last two terms when $\\phi_j = \\sum_i x_{ij} \\left( y_i - \\sum_{k\\neq j} x_{ik}\\beta_k \\right) \\not \\in \\left[ - \\frac{\\lambda}{2}, \\frac{\\lambda}{2}\\right]$. What value for $\\beta_j$ minimizes this function in the case that $\\phi_j \\not \\in \\left[ - \\frac{\\lambda}{2}, \\frac{\\lambda}{2}\\right]$ and the signs of the first two and last two terms agree?<br><br>\n",
        "\n",
        "    1. (A) $\\quad\\beta_j=0$\n",
        "    2. (B) $\\quad\\beta_j = \\frac{1}{n}(y - X_{\\cdot -j} \\beta_{-j})^TX_{\\cdot j}$\n",
        "    3. (C) $\\quad\\beta_j = \\frac{1}{n} \\left[ (y - X_{\\cdot -j} \\beta_{-j})^TX_{\\cdot j} - \\lambda \\times \\beta_{j} \\right]$\n",
        "    4. (D) $\\quad\\beta_j = \\frac{1}{n} \\left[ (y - X_{\\cdot -j} \\beta_{-j})^TX_{\\cdot j} - \\lambda \\times \\text{sign}(\\beta_{j}) \\right]$\n",
        "    5. (E) $\\quad\\beta_j = \\frac{1}{n} \\left[ (y - X_{\\cdot -j} \\beta_{-j})^TX_{\\cdot j} - \\frac{1}{2} \\lambda \\times \\text{sign}(\\beta_{j}) \\right]$\n",
        "    \n"
      ]
    },
    {
      "cell_type": "code",
      "execution_count": 3,
      "id": "496dcc56",
      "metadata": {
        "id": "496dcc56"
      },
      "outputs": [],
      "source": [
        "# 0.2 points each\n",
        "\n",
        "p1q1 = \"C\"\n",
        "p1q2 = \"C\"\n",
        "p1q3 = \"A\"\n",
        "p1q4 = \"C\"\n",
        "p1q5 = \"D\"\n"
      ]
    },
    {
      "cell_type": "markdown",
      "id": "120fef7d",
      "metadata": {
        "id": "120fef7d"
      },
      "source": [
        "### Part 2 (1 point): lasso\n",
        "\n",
        "Define the function `fit_lasso(X, y, beta0, lambda_, epsilon, K=1000)` which, for a given $\\lambda$, uses ***coordinate descent*** to compute the ***lasso regression*** coefficients which optimize the function\n",
        "\n",
        "$$\\min_{\\beta|\\lambda} \\sum_i (y_i-x_i^T \\beta)^2 + \\lambda \\sum_k |\\beta_k|$$\n",
        "    \n",
        "Your `fit_lasso` function will be tested directly so you don't need to assign any other variables for this problem.\n",
        "  \n",
        "> The `np.sign()` and `np.abs()` functions will likely be useful, as may `np.c_[columns_1, columns_2]` which concatenates columns together and `np.r_[rows_1,rows_2]` concatenates rows together.\n"
      ]
    },
    {
      "cell_type": "code",
      "execution_count": 4,
      "id": "e7d3bee6",
      "metadata": {
        "id": "e7d3bee6"
      },
      "outputs": [],
      "source": [
        "def fit_lasso(X, y, beta0, lambda_, epsilon, K=1000):\n",
        "    '''\n",
        "    Lasso Regression fitting using coordinate descent\n",
        "\n",
        "    X     [np.array shape=(n,p)]: mean 0 standard deviation 1 columns\n",
        "    y     [np.array shape=(n,p)]: mean 0 column\n",
        "    beta0 [np.array shape=(p,1)]: initial value\n",
        "\n",
        "    lambda_ [float > 0]: regularization hyperparameter:\n",
        "                         the larger this value the greater the regularization\n",
        "    epsilon [float > 0]: trigger early stopping and return beta if\n",
        "                         (beta-beta0).T.dot(beta-beta0) < epsilon\n",
        "    K         [int > 0]: default 1000 maximum number of interations\n",
        "\n",
        "    returns Lasso regression beta-hat of yhat = X beta-hat\n",
        "    '''\n",
        "\n",
        "    beta = beta0.copy()\n",
        "    n, p = X.shape\n",
        "\n",
        "    for k in range(K):\n",
        "        beta_old = beta.copy()\n",
        "\n",
        "        for j in range(p):\n",
        "            X_j = X[:, j]\n",
        "            residual = y - (X @ beta) + beta[j] * X_j[:, np.newaxis]\n",
        "            rho = X_j.T @ residual\n",
        "\n",
        "            if np.abs(rho) > lambda_:\n",
        "                beta[j] = (np.sign(rho) * (np.abs(rho) - lambda_)) / (X_j.T @ X_j)\n",
        "            else:\n",
        "                beta[j] = 0\n",
        "\n",
        "        if np.linalg.norm(beta - beta_old) < epsilon:\n",
        "            return beta\n",
        "\n",
        "    return beta"
      ]
    },
    {
      "cell_type": "code",
      "execution_count": 5,
      "id": "ab80f7ad",
      "metadata": {
        "id": "ab80f7ad"
      },
      "outputs": [],
      "source": [
        "# Cell for scratch work\n",
        "\n",
        "# You are welcome to add cells into your notebook but\n",
        "# just don't runtime errors anywhere in your notebook\n",
        "# as cells are run sequentially for automated testing\n",
        "\n",
        "# Automated testing is looking for cells (`cell ids`)\n",
        "# where you're asked to enter answers or complete code\n",
        "# but all other cells like this one or cells you add\n",
        "# are safe to delete if you want a \"cleaner\" notebook\n"
      ]
    },
    {
      "cell_type": "code",
      "execution_count": 6,
      "id": "1135d056",
      "metadata": {
        "id": "1135d056"
      },
      "outputs": [],
      "source": [
        "# Cell for scratch work\n"
      ]
    },
    {
      "cell_type": "code",
      "execution_count": 6,
      "id": "bfd1e50c",
      "metadata": {
        "id": "bfd1e50c"
      },
      "outputs": [],
      "source": []
    },
    {
      "cell_type": "code",
      "execution_count": 7,
      "id": "d704923a",
      "metadata": {
        "colab": {
          "base_uri": "https://localhost:8080/"
        },
        "id": "d704923a",
        "outputId": "6db00bcd-14a8-4777-b609-92ad7d64bb21"
      },
      "outputs": [
        {
          "output_type": "execute_result",
          "data": {
            "text/plain": [
              "array([[-0.19588953],\n",
              "       [ 1.626723  ],\n",
              "       [-1.44967936],\n",
              "       [ 0.4142235 ],\n",
              "       [-3.57801491],\n",
              "       [ 1.444047  ],\n",
              "       [ 0.15763526],\n",
              "       [ 1.23776483],\n",
              "       [ 0.47595069],\n",
              "       [-0.31702919]])"
            ]
          },
          "metadata": {},
          "execution_count": 7
        }
      ],
      "source": [
        "mtcars = sm.datasets.get_rdataset(\"mtcars\")\n",
        "y = mtcars.data[['mpg']].values\n",
        "y = y-y.mean()\n",
        "X = mtcars.data[['cyl', 'disp', 'hp', 'drat', 'wt', 'qsec', 'vs', 'am', 'gear','carb']].values\n",
        "X = (X-X.mean(axis=0))\n",
        "X = X / (X**2).mean(axis=0)**0.5\n",
        "model = sm.OLS(y,X); results = model.fit()\n",
        "beta0 = results.summary2().tables[1].values[:,:1]\n",
        "beta0"
      ]
    },
    {
      "cell_type": "code",
      "execution_count": 8,
      "id": "59c94dc0",
      "metadata": {
        "colab": {
          "base_uri": "https://localhost:8080/",
          "height": 629
        },
        "id": "59c94dc0",
        "outputId": "d8882c4b-4e8f-4725-8371-3ff9b948c132"
      },
      "outputs": [
        {
          "output_type": "execute_result",
          "data": {
            "text/plain": [
              "<class 'statsmodels.iolib.summary.Summary'>\n",
              "\"\"\"\n",
              "                                 OLS Regression Results                                \n",
              "=======================================================================================\n",
              "Dep. Variable:                      y   R-squared (uncentered):                   0.869\n",
              "Model:                            OLS   Adj. R-squared (uncentered):              0.809\n",
              "Method:                 Least Squares   F-statistic:                              14.60\n",
              "Date:                Fri, 07 Mar 2025   Prob (F-statistic):                    1.59e-07\n",
              "Time:                        19:10:57   Log-Likelihood:                         -69.855\n",
              "No. Observations:                  32   AIC:                                      159.7\n",
              "Df Residuals:                      22   BIC:                                      174.4\n",
              "Df Model:                          10                                                  \n",
              "Covariance Type:            nonrobust                                                  \n",
              "==============================================================================\n",
              "                 coef    std err          t      P>|t|      [0.025      0.975]\n",
              "------------------------------------------------------------------------------\n",
              "x1            -0.1959      1.795     -0.109      0.914      -3.918       3.526\n",
              "x2             1.6267      2.128      0.764      0.453      -2.787       6.041\n",
              "x3            -1.4497      1.435     -1.010      0.323      -4.426       1.527\n",
              "x4             0.4142      0.841      0.493      0.627      -1.330       2.158\n",
              "x5            -3.5780      1.782     -2.007      0.057      -7.275       0.119\n",
              "x6             1.4440      1.256      1.150      0.263      -1.160       4.049\n",
              "x7             0.1576      1.020      0.155      0.879      -1.958       2.273\n",
              "x8             1.2378      0.987      1.254      0.223      -0.809       3.284\n",
              "x9             0.4760      1.059      0.449      0.658      -1.721       2.673\n",
              "x10           -0.3170      1.287     -0.246      0.808      -2.987       2.353\n",
              "==============================================================================\n",
              "Omnibus:                        1.907   Durbin-Watson:                   1.861\n",
              "Prob(Omnibus):                  0.385   Jarque-Bera (JB):                1.747\n",
              "Skew:                           0.521   Prob(JB):                        0.418\n",
              "Kurtosis:                       2.526   Cond. No.                         15.6\n",
              "==============================================================================\n",
              "\n",
              "Notes:\n",
              "[1] R² is computed without centering (uncentered) since the model does not contain a constant.\n",
              "[2] Standard Errors assume that the covariance matrix of the errors is correctly specified.\n",
              "\"\"\""
            ],
            "text/html": [
              "<table class=\"simpletable\">\n",
              "<caption>OLS Regression Results</caption>\n",
              "<tr>\n",
              "  <th>Dep. Variable:</th>            <td>y</td>        <th>  R-squared (uncentered):</th>      <td>   0.869</td>\n",
              "</tr>\n",
              "<tr>\n",
              "  <th>Model:</th>                   <td>OLS</td>       <th>  Adj. R-squared (uncentered):</th> <td>   0.809</td>\n",
              "</tr>\n",
              "<tr>\n",
              "  <th>Method:</th>             <td>Least Squares</td>  <th>  F-statistic:       </th>          <td>   14.60</td>\n",
              "</tr>\n",
              "<tr>\n",
              "  <th>Date:</th>             <td>Fri, 07 Mar 2025</td> <th>  Prob (F-statistic):</th>          <td>1.59e-07</td>\n",
              "</tr>\n",
              "<tr>\n",
              "  <th>Time:</th>                 <td>19:10:57</td>     <th>  Log-Likelihood:    </th>          <td> -69.855</td>\n",
              "</tr>\n",
              "<tr>\n",
              "  <th>No. Observations:</th>      <td>    32</td>      <th>  AIC:               </th>          <td>   159.7</td>\n",
              "</tr>\n",
              "<tr>\n",
              "  <th>Df Residuals:</th>          <td>    22</td>      <th>  BIC:               </th>          <td>   174.4</td>\n",
              "</tr>\n",
              "<tr>\n",
              "  <th>Df Model:</th>              <td>    10</td>      <th>                     </th>              <td> </td>   \n",
              "</tr>\n",
              "<tr>\n",
              "  <th>Covariance Type:</th>      <td>nonrobust</td>    <th>                     </th>              <td> </td>   \n",
              "</tr>\n",
              "</table>\n",
              "<table class=\"simpletable\">\n",
              "<tr>\n",
              "   <td></td>      <th>coef</th>     <th>std err</th>      <th>t</th>      <th>P>|t|</th>  <th>[0.025</th>    <th>0.975]</th>  \n",
              "</tr>\n",
              "<tr>\n",
              "  <th>x1</th>  <td>   -0.1959</td> <td>    1.795</td> <td>   -0.109</td> <td> 0.914</td> <td>   -3.918</td> <td>    3.526</td>\n",
              "</tr>\n",
              "<tr>\n",
              "  <th>x2</th>  <td>    1.6267</td> <td>    2.128</td> <td>    0.764</td> <td> 0.453</td> <td>   -2.787</td> <td>    6.041</td>\n",
              "</tr>\n",
              "<tr>\n",
              "  <th>x3</th>  <td>   -1.4497</td> <td>    1.435</td> <td>   -1.010</td> <td> 0.323</td> <td>   -4.426</td> <td>    1.527</td>\n",
              "</tr>\n",
              "<tr>\n",
              "  <th>x4</th>  <td>    0.4142</td> <td>    0.841</td> <td>    0.493</td> <td> 0.627</td> <td>   -1.330</td> <td>    2.158</td>\n",
              "</tr>\n",
              "<tr>\n",
              "  <th>x5</th>  <td>   -3.5780</td> <td>    1.782</td> <td>   -2.007</td> <td> 0.057</td> <td>   -7.275</td> <td>    0.119</td>\n",
              "</tr>\n",
              "<tr>\n",
              "  <th>x6</th>  <td>    1.4440</td> <td>    1.256</td> <td>    1.150</td> <td> 0.263</td> <td>   -1.160</td> <td>    4.049</td>\n",
              "</tr>\n",
              "<tr>\n",
              "  <th>x7</th>  <td>    0.1576</td> <td>    1.020</td> <td>    0.155</td> <td> 0.879</td> <td>   -1.958</td> <td>    2.273</td>\n",
              "</tr>\n",
              "<tr>\n",
              "  <th>x8</th>  <td>    1.2378</td> <td>    0.987</td> <td>    1.254</td> <td> 0.223</td> <td>   -0.809</td> <td>    3.284</td>\n",
              "</tr>\n",
              "<tr>\n",
              "  <th>x9</th>  <td>    0.4760</td> <td>    1.059</td> <td>    0.449</td> <td> 0.658</td> <td>   -1.721</td> <td>    2.673</td>\n",
              "</tr>\n",
              "<tr>\n",
              "  <th>x10</th> <td>   -0.3170</td> <td>    1.287</td> <td>   -0.246</td> <td> 0.808</td> <td>   -2.987</td> <td>    2.353</td>\n",
              "</tr>\n",
              "</table>\n",
              "<table class=\"simpletable\">\n",
              "<tr>\n",
              "  <th>Omnibus:</th>       <td> 1.907</td> <th>  Durbin-Watson:     </th> <td>   1.861</td>\n",
              "</tr>\n",
              "<tr>\n",
              "  <th>Prob(Omnibus):</th> <td> 0.385</td> <th>  Jarque-Bera (JB):  </th> <td>   1.747</td>\n",
              "</tr>\n",
              "<tr>\n",
              "  <th>Skew:</th>          <td> 0.521</td> <th>  Prob(JB):          </th> <td>   0.418</td>\n",
              "</tr>\n",
              "<tr>\n",
              "  <th>Kurtosis:</th>      <td> 2.526</td> <th>  Cond. No.          </th> <td>    15.6</td>\n",
              "</tr>\n",
              "</table><br/><br/>Notes:<br/>[1] R² is computed without centering (uncentered) since the model does not contain a constant.<br/>[2] Standard Errors assume that the covariance matrix of the errors is correctly specified."
            ],
            "text/latex": "\\begin{center}\n\\begin{tabular}{lclc}\n\\toprule\n\\textbf{Dep. Variable:}    &        y         & \\textbf{  R-squared (uncentered):}      &     0.869   \\\\\n\\textbf{Model:}            &       OLS        & \\textbf{  Adj. R-squared (uncentered):} &     0.809   \\\\\n\\textbf{Method:}           &  Least Squares   & \\textbf{  F-statistic:       }          &     14.60   \\\\\n\\textbf{Date:}             & Fri, 07 Mar 2025 & \\textbf{  Prob (F-statistic):}          &  1.59e-07   \\\\\n\\textbf{Time:}             &     19:10:57     & \\textbf{  Log-Likelihood:    }          &   -69.855   \\\\\n\\textbf{No. Observations:} &          32      & \\textbf{  AIC:               }          &     159.7   \\\\\n\\textbf{Df Residuals:}     &          22      & \\textbf{  BIC:               }          &     174.4   \\\\\n\\textbf{Df Model:}         &          10      & \\textbf{                     }          &             \\\\\n\\textbf{Covariance Type:}  &    nonrobust     & \\textbf{                     }          &             \\\\\n\\bottomrule\n\\end{tabular}\n\\begin{tabular}{lcccccc}\n             & \\textbf{coef} & \\textbf{std err} & \\textbf{t} & \\textbf{P$> |$t$|$} & \\textbf{[0.025} & \\textbf{0.975]}  \\\\\n\\midrule\n\\textbf{x1}  &      -0.1959  &        1.795     &    -0.109  &         0.914        &       -3.918    &        3.526     \\\\\n\\textbf{x2}  &       1.6267  &        2.128     &     0.764  &         0.453        &       -2.787    &        6.041     \\\\\n\\textbf{x3}  &      -1.4497  &        1.435     &    -1.010  &         0.323        &       -4.426    &        1.527     \\\\\n\\textbf{x4}  &       0.4142  &        0.841     &     0.493  &         0.627        &       -1.330    &        2.158     \\\\\n\\textbf{x5}  &      -3.5780  &        1.782     &    -2.007  &         0.057        &       -7.275    &        0.119     \\\\\n\\textbf{x6}  &       1.4440  &        1.256     &     1.150  &         0.263        &       -1.160    &        4.049     \\\\\n\\textbf{x7}  &       0.1576  &        1.020     &     0.155  &         0.879        &       -1.958    &        2.273     \\\\\n\\textbf{x8}  &       1.2378  &        0.987     &     1.254  &         0.223        &       -0.809    &        3.284     \\\\\n\\textbf{x9}  &       0.4760  &        1.059     &     0.449  &         0.658        &       -1.721    &        2.673     \\\\\n\\textbf{x10} &      -0.3170  &        1.287     &    -0.246  &         0.808        &       -2.987    &        2.353     \\\\\n\\bottomrule\n\\end{tabular}\n\\begin{tabular}{lclc}\n\\textbf{Omnibus:}       &  1.907 & \\textbf{  Durbin-Watson:     } &    1.861  \\\\\n\\textbf{Prob(Omnibus):} &  0.385 & \\textbf{  Jarque-Bera (JB):  } &    1.747  \\\\\n\\textbf{Skew:}          &  0.521 & \\textbf{  Prob(JB):          } &    0.418  \\\\\n\\textbf{Kurtosis:}      &  2.526 & \\textbf{  Cond. No.          } &     15.6  \\\\\n\\bottomrule\n\\end{tabular}\n%\\caption{OLS Regression Results}\n\\end{center}\n\nNotes: \\newline\n [1] R² is computed without centering (uncentered) since the model does not contain a constant. \\newline\n [2] Standard Errors assume that the covariance matrix of the errors is correctly specified."
          },
          "metadata": {},
          "execution_count": 8
        }
      ],
      "source": [
        "sm.OLS(y,X).fit().summary()"
      ]
    },
    {
      "cell_type": "code",
      "execution_count": 8,
      "id": "43a58d4d",
      "metadata": {
        "id": "43a58d4d"
      },
      "outputs": [],
      "source": []
    },
    {
      "cell_type": "markdown",
      "id": "a95cc34c",
      "metadata": {
        "id": "a95cc34c"
      },
      "source": [
        "### Part 3 (1 point): ridge and lasso trajectories\n",
        "\n",
        "define the functions\n",
        "\n",
        "- `fit_ridge(X, y, beta0, lambda_, epsilon, K=1000)`\n",
        "- `get_lasso_beta_trajectories(X, y, lambdas)`\n",
        "- `get_ridge_beta_trajectories(X, y, lambdas)`\n",
        "\n",
        "where `fit_ridge` uses **coordinate descent** analogously to `fit_lasso` and `get_ridge_beta_trajectories` is analogous `get_lasso_beta_trajectories` which returns the sequence of `fit_lasso` results\n",
        "\n",
        "1. sequentially called for each value in the (increasing) `lambdas`\n",
        "2. where the first initialization `beta0` is the unregularized least squares regression fit\n",
        "3. and the subsequent initializations are the fits returned from the sequentially preceeding `fit_lasso` function call in the `lambdas` sequence\n",
        "\n",
        "Show that all your functions work by creating the shrinkage plots using the code below.\n",
        "\n",
        "Your functions will be tested directly so you don't need to assign any other variables for this problem.\n"
      ]
    },
    {
      "cell_type": "code",
      "execution_count": 9,
      "id": "8f77116d",
      "metadata": {
        "id": "8f77116d"
      },
      "outputs": [],
      "source": [
        "def get_lasso_beta_trajectories(X, y, lambdas):\n",
        "    '''\n",
        "    Lasso Regularization fits across regulation parameters\n",
        "\n",
        "    X     [np.array shape=(n,p)]: mean 0 standard deviation 1 columns\n",
        "    y     [np.array shape=(n,p)]: mean 0 column\n",
        "    lambdas [np.array shape=(q)]: regularization hyperparameters with\n",
        "                                  increasing lambdas (regularization strength)\n",
        "                                  where 0 indicates no regulation and\n",
        "                                  beta-hat is 0 for some large number\n",
        "\n",
        "    returns betas with betas.shape=(p,k+1) which are the Lasso fits\n",
        "            across the lambdas fit from least to most regularization\n",
        "    '''\n",
        "\n",
        "    model = sm.OLS(y, X); results = model.fit()\n",
        "    beta0 = results.summary2().tables[1].values[:,:1]\n",
        "    betas = np.zeros((X.shape[1], 1 + len(lambdas)))\n",
        "    betas[:, :1] = beta0.copy()\n",
        "\n",
        "    for i, lambda_ in enumerate(lambdas):\n",
        "        beta0 = fit_lasso(X, y, beta0, lambda_, epsilon=1e-10, K=1000)\n",
        "        betas[:, i + 1] = beta0.ravel()\n",
        "\n",
        "    return betas"
      ]
    },
    {
      "cell_type": "code",
      "execution_count": 10,
      "id": "8e0cc854",
      "metadata": {
        "id": "8e0cc854"
      },
      "outputs": [],
      "source": [
        "def fit_ridge(X, y, beta0, lambda_, epsilon, K=1000):\n",
        "    '''\n",
        "    Ridge Regression fitting using coordinate descent\n",
        "\n",
        "    X     [np.array shape=(n,p)]: mean 0 standard deviation 1 columns\n",
        "    y     [np.array shape=(n,p)]: mean 0 column\n",
        "    beta0 [np.array shape=(p,1)]: initial value\n",
        "\n",
        "    lambda_ [float > 0]: regularization hyperparameter:\n",
        "                         the larger this value the greater the regularization\n",
        "    epsilon [float > 0]: trigger early stopping and return beta if\n",
        "                         (beta-beta0).T.dot(beta-beta0) < epsilon\n",
        "    K         [int > 0]: default 1000 maximum number of interations\n",
        "\n",
        "    returns Ridge regression beta-hat of yhat = X beta-hat\n",
        "    '''\n",
        "    beta = beta0.copy()\n",
        "    n, p = X.shape\n",
        "\n",
        "    for k in range(K):\n",
        "        beta_old = beta.copy()\n",
        "\n",
        "        for j in range(p):\n",
        "            X_j = X[:, j]\n",
        "            residual = y - (X @ beta) + beta[j] * X_j[:, np.newaxis]\n",
        "            rho = X_j.T @ residual\n",
        "\n",
        "            beta[j] = rho / (X_j.T @ X_j + lambda_)\n",
        "\n",
        "        if np.linalg.norm(beta - beta_old) < epsilon:\n",
        "            return beta\n",
        "\n",
        "    return beta"
      ]
    },
    {
      "cell_type": "code",
      "execution_count": 11,
      "id": "d1c9d8b3",
      "metadata": {
        "id": "d1c9d8b3"
      },
      "outputs": [],
      "source": [
        "def get_ridge_beta_trajectories(X, y, lambdas):\n",
        "    '''\n",
        "    Ridge Regularization fits across regulation parameters\n",
        "\n",
        "    X     [np.array shape=(n,p)]: mean 0 standard deviation 1 columns\n",
        "    y     [np.array shape=(n,p)]: mean 0 column\n",
        "    lambdas [np.array shape=(q)]: regularization hyperparameters with\n",
        "                                  increasing lambdas (regularization strength)\n",
        "                                  where 0 indicates no regulation and\n",
        "                                  beta-hat is 0 for some large number\n",
        "\n",
        "    returns betas with betas.shape=(p,k+1) which are the Ridge fits\n",
        "            across the lambdas fit from least to most regularization\n",
        "    '''\n",
        "\n",
        "    model = sm.OLS(y, X); results = model.fit()\n",
        "    beta0 = results.summary2().tables[1].values[:,:1]\n",
        "    betas = np.zeros((X.shape[1], 1 + len(lambdas)))\n",
        "    betas[:, :1] = beta0.copy()\n",
        "\n",
        "    for i, lambda_ in enumerate(lambdas):\n",
        "        beta0 = fit_ridge(X, y, beta0, lambda_, epsilon=1e-10, K=1000)\n",
        "        betas[:, i + 1] = beta0.ravel()\n",
        "\n",
        "    return betas\n"
      ]
    },
    {
      "cell_type": "code",
      "execution_count": 11,
      "id": "70d8365c",
      "metadata": {
        "id": "70d8365c"
      },
      "outputs": [],
      "source": []
    },
    {
      "cell_type": "code",
      "execution_count": 12,
      "id": "dc002ade",
      "metadata": {
        "id": "dc002ade"
      },
      "outputs": [],
      "source": [
        "# Cell for scratch work\n",
        "\n",
        "# You are welcome to add cells into your notebook but\n",
        "# just don't runtime errors anywhere in your notebook\n",
        "# as cells are run sequentially for automated testing\n",
        "\n",
        "# Automated testing is looking for cells (`cell ids`)\n",
        "# where you're asked to enter answers or complete code\n",
        "# but all other cells like this one or cells you add\n",
        "# are safe to delete if you want a \"cleaner\" notebook\n"
      ]
    },
    {
      "cell_type": "code",
      "execution_count": 13,
      "id": "dfe9ea78",
      "metadata": {
        "id": "dfe9ea78"
      },
      "outputs": [],
      "source": [
        "# Cell for scratch work"
      ]
    },
    {
      "cell_type": "code",
      "execution_count": 13,
      "id": "b3a4c8be",
      "metadata": {
        "id": "b3a4c8be"
      },
      "outputs": [],
      "source": []
    },
    {
      "cell_type": "code",
      "execution_count": 14,
      "id": "44da96a6",
      "metadata": {
        "colab": {
          "base_uri": "https://localhost:8080/",
          "height": 476
        },
        "id": "44da96a6",
        "outputId": "4e886bbc-cebc-4fe3-e84c-cd29a0c62acd"
      },
      "outputs": [
        {
          "output_type": "display_data",
          "data": {
            "text/plain": [
              "<Figure size 640x480 with 1 Axes>"
            ],
            "image/png": "[encoded data removed]"
          },
          "metadata": {}
        }
      ],
      "source": [
        "loglambdas = np.linspace(-2, 6, 100)\n",
        "lambdas = np.exp(loglambdas)\n",
        "betas = get_lasso_beta_trajectories(X, y, lambdas)\n",
        "for i in range(betas.shape[0]):\n",
        "    plt.plot(np.concatenate([np.array([lambdas[0] - (lambdas[1]-lambdas[0])]), lambdas]), betas[i,:])\n",
        "plt.xscale(\"log\")\n",
        "plt.xlabel(\"lambda\")\n",
        "plt.ylabel(\"beta coefficient\")\n",
        "plt.title(\"Lasso Shrinkage Plot\");"
      ]
    },
    {
      "cell_type": "code",
      "execution_count": 15,
      "id": "29833e9f",
      "metadata": {
        "colab": {
          "base_uri": "https://localhost:8080/",
          "height": 476
        },
        "id": "29833e9f",
        "outputId": "8de98e64-909d-48a0-9788-fb68b13f06b6"
      },
      "outputs": [
        {
          "output_type": "display_data",
          "data": {
            "text/plain": [
              "<Figure size 640x480 with 1 Axes>"
            ],
            "image/png": "[encoded data removed]"
          },
          "metadata": {}
        }
      ],
      "source": [
        "lambdas = np.logspace(-2, 4, 100)\n",
        "betas = get_ridge_beta_trajectories(X, y, lambdas)\n",
        "for i in range(betas.shape[0]):\n",
        "    plt.plot(np.concatenate([np.array([lambdas[0] - (lambdas[1]-lambdas[0])]), lambdas]), betas[i,:])\n",
        "plt.xscale(\"log\")\n",
        "plt.xlabel(\"lambda\")\n",
        "plt.ylabel(\"beta coefficient\")\n",
        "plt.title(\"Ridge Shrinkage Plot\");"
      ]
    },
    {
      "cell_type": "code",
      "execution_count": 15,
      "id": "2db4e817",
      "metadata": {
        "id": "2db4e817"
      },
      "outputs": [],
      "source": []
    },
    {
      "cell_type": "code",
      "execution_count": 16,
      "id": "ff2d0199",
      "metadata": {
        "colab": {
          "base_uri": "https://localhost:8080/",
          "height": 476
        },
        "id": "ff2d0199",
        "outputId": "d1af4bab-dbf5-49f6-b953-1ee1f630c4e1"
      },
      "outputs": [
        {
          "output_type": "display_data",
          "data": {
            "text/plain": [
              "<Figure size 640x480 with 1 Axes>"
            ],
            "image/png": "[encoded data removed]"
          },
          "metadata": {}
        }
      ],
      "source": [
        "# FOR p4q8\n",
        "\n",
        "def fit_elastic_net(X, y, beta0, lambda_, alpha, epsilon, K=1000):\n",
        "    '''\n",
        "    Elastic Net Regression fitting using coordinate descent\n",
        "\n",
        "    X       [np.array shape=(n,p)]: mean 0 standard deviation 1 columns\n",
        "    y       [np.array shape=(n,p)]: mean 0 column\n",
        "    beta0   [np.array shape=(p,1)]: initial value\n",
        "\n",
        "    lambda_ [float > 0]: regularization hyperparameter (controls strength)\n",
        "    alpha   [float in (0,1)]: balance between L1 (lasso) and L2 (ridge)\n",
        "                             alpha=1 is Lasso, alpha=0 is Ridge\n",
        "    epsilon [float > 0]: early stopping threshold\n",
        "    K       [int > 0]: max number of iterations (default: 1000)\n",
        "\n",
        "    returns Elastic Net regression beta-hat of yhat = X beta-hat\n",
        "    '''\n",
        "    beta = beta0.copy()\n",
        "    n, p = X.shape\n",
        "\n",
        "    for k in range(K):\n",
        "        beta_old = beta.copy()\n",
        "\n",
        "        for j in range(p):\n",
        "            X_j = X[:, j]\n",
        "            residual = y - (X @ beta) + beta[j] * X_j[:, np.newaxis]\n",
        "            rho = X_j.T @ residual\n",
        "\n",
        "            denom = X_j.T @ X_j + (1 - alpha) * lambda_\n",
        "            soft_threshold = np.sign(rho) * max(abs(rho) - alpha * lambda_, 0)\n",
        "            beta[j] = soft_threshold / denom\n",
        "\n",
        "        if np.linalg.norm(beta - beta_old) < epsilon:\n",
        "            return beta\n",
        "\n",
        "    return beta\n",
        "\n",
        "def get_elastic_net_beta_trajectories(X, y, lambdas, alpha):\n",
        "    '''\n",
        "    Elastic Net fits across regularization parameters\n",
        "\n",
        "    X       [np.array shape=(n,p)]: mean 0 standard deviation 1 columns\n",
        "    y       [np.array shape=(n,p)]: mean 0 column\n",
        "    lambdas [np.array shape=(q)]: increasing regularization strengths\n",
        "    alpha   [float in (0,1)]: balance between L1 (lasso) and L2 (ridge)\n",
        "\n",
        "    returns betas with shape=(p, len(lambdas)+1) for fits across lambdas\n",
        "    '''\n",
        "    model = sm.OLS(y, X)\n",
        "    results = model.fit()\n",
        "    beta0 = results.summary2().tables[1].values[:, :1]\n",
        "    betas = np.zeros((X.shape[1], 1 + len(lambdas)))\n",
        "    betas[:, :1] = beta0.copy()\n",
        "\n",
        "    for i, lambda_ in enumerate(lambdas):\n",
        "        beta0 = fit_elastic_net(X, y, beta0, lambda_, alpha, epsilon=1e-10, K=1000)\n",
        "        betas[:, i + 1] = beta0.ravel()\n",
        "\n",
        "    return betas\n",
        "\n",
        "lambdas = np.logspace(-2, 4, 100)\n",
        "betas = get_elastic_net_beta_trajectories(X, y, lambdas, 0.9)\n",
        "for i in range(betas.shape[0]):\n",
        "    plt.plot(np.concatenate([np.array([lambdas[0] - (lambdas[1]-lambdas[0])]), lambdas]), betas[i,:])\n",
        "plt.xscale(\"log\")\n",
        "plt.xlabel(\"lambda\")\n",
        "plt.ylabel(\"beta coefficient\")\n",
        "plt.title(\"Elastic Net Shrinkage Plot\");"
      ]
    },
    {
      "cell_type": "markdown",
      "id": "5642fe88",
      "metadata": {
        "id": "5642fe88"
      },
      "source": [
        "### Part 4 (1 point): wrap up\n"
      ]
    },
    {
      "cell_type": "code",
      "execution_count": 17,
      "id": "1beeab0f",
      "metadata": {
        "id": "1beeab0f"
      },
      "outputs": [],
      "source": [
        "\n",
        "\n",
        "p4q1 = \"Lasso removes coefficients by comparing the magnitude of the D\"\n",
        "# A: coefficients against the lambda value\n",
        "# B: coefficients against the log of the lambda value\n",
        "# C: sum of the residuals their covariates predict against the lambda value\n",
        "# D: inner product of covariates and the residuals they predict against the lambda value\n",
        "\n",
        "p4q2 = \"Lasso removes covariates based on C\"\n",
        "# A: linear independence\n",
        "# B: orthogonality\n",
        "# C: correlation\n",
        "# D: covariance\n",
        "\n",
        "p4q3 = \"Lasso covariates are standardized under the assumption that \"+\\\n",
        "       \"covariate C should not drive variable selection\"\n",
        "# A: correlation\n",
        "# B: covariance\n",
        "# C: magnitude\n",
        "# D: multicollinearity\n",
        "\n",
        "p4q4 = \"Scaling a centered covariate by a factor of two requires \"+\\\n",
        "       \"B of the regularization lambda for that covariate \"+\\\n",
        "       \"to maintain an equivalent variable selection behavior to \"+\\\n",
        "       \"an original unscaled version of the specification\"\n",
        "# A: a corresponding doubling\n",
        "# B: a corresponding halfing\n",
        "# C: no corresponding change\n",
        "# D: None of the above\n",
        "\n",
        "p4q5 = \"Lasso variable selection is used to produce an optimal bias-variance \"+\\\n",
        "       \"tradeoff in terms of out of sample predictive performance; however, \"+\\\n",
        "       \"the consistency of the variable selection depends on the variance of the \"+\\\n",
        "       \"C\"\n",
        "# A: variance of the diagonal of the covariate matrix\n",
        "# B: variance of the off-diagonal of the covariate matrix\n",
        "# C: A and B above in combination with the variance of coefficient shrinkage regularization\n",
        "# D: B above in combination with the variance of coefficient shrinkage regularization\n",
        "\n",
        "p4q6 = \"The previous lasso regression fit is used as the initial value \"+\\\n",
        "       \"for the next lasso regression fit with the next incrementally increased \"+\\\n",
        "       \"regularization lambda C\"\n",
        "# A: for convenience since it is immediately available\n",
        "# B: for convenience so the least squares fit doesn't have to be recalculated\n",
        "# C: since it is likely close relative to the next lasso penalized fit\n",
        "# D: but this is unneccessary since any other initalization would be just as good\n"
      ]
    },
    {
      "cell_type": "markdown",
      "id": "fbf2575d",
      "metadata": {
        "id": "fbf2575d"
      },
      "source": [
        "### Orthogonal ridge\n",
        "\n",
        "For centered and scaled $X$ as above and an additional assumption of **orthogonality** in the columns of $X$ (such as in PCR through the use of $U$ from $X=UDV^T$), the **ridge regression** solution can be shown to be\n",
        "\n",
        "   $$\\hat \\beta_j^{ridge} = \\frac{n}{n+\\lambda} \\hat \\beta_j^{LS} $$\n",
        "  \n",
        "   for $\\hat \\beta_j^{LS}$ equal to the $j$ coeficient of the least squares estimate $(U^TU)^{-1}U^Ty$.\n",
        "   \n",
        "### Elastic net\n",
        "\n",
        "The **elastic net** combines **lasso** and **ridge regression** through the loss function\n",
        "\n",
        "   $$\\min_{\\beta|\\lambda_L,\\lambda_R} \\sum_i x_{ij}(y_i-x_i^T \\beta)^2 + \\lambda_L \\sum_k |\\beta_k| + \\lambda_R \\sum_k \\beta_k^2$$\n",
        "    which is equivalent to\n",
        "    $$\\min_{\\beta|\\lambda_L,\\lambda_R} (n+\\lambda_R)\\beta_j^2 - 2\\beta_j \\sum_i x_{ij} \\left( y_i - \\sum_{k\\neq j} x_{ik}\\beta_k \\right) + \\lambda_L |\\beta_{j}|$$\n",
        "    \n",
        "   \n",
        "7. How many of **lasso regression**, **ridge regression**, **elastic net**, and the **orthogonality**-based $\\hat \\beta_j^{ridge}$ **regression** have the ability to set $\\beta_j$ coefficients to $0$?<br><br>\n",
        "\n",
        "    1. (A) 0\n",
        "    2. (B) 1\n",
        "    3. (C) 2\n",
        "    4. (D) 3\n",
        "    5. (E) 4<br><br>\n",
        "\n",
        "8. How many of **lasso regression**, **ridge regression**, **elastic net**, and the **orthogonality**-based $\\hat \\beta_j^{ridge}$ **regression** necessarily converge monotonically towards $0$?<br><br>\n",
        "\n",
        "    1. (A) 0\n",
        "    2. (B) 1\n",
        "    3. (C) 2\n",
        "    4. (D) 3\n",
        "    5. (E) 4<br><br>\n",
        "\n",
        "9. Which of the following best describes how shrinkage can be interpreted in **elastic net**?<br><br>\n",
        "\n",
        "    1. (A) **Ridge** shrinkage is applied to each coefficient after **lasso** shrinkage by scaling by $(n+\\lambda_R)^{-1}$ rather than $n^{-1}$\n",
        "    2. (B) ***Ridge*** shrinkage is applied by setting $\\hat \\beta_j^{ridge} =   \\frac{n}{n+\\lambda_R} \\hat \\beta_j^{LS}$ and then applying the ***lasso*** shrinkage adjustment    \n",
        "    3. (C) ***Ridge*** shrinkage is applied as a final adjustment setting $\\hat \\beta^{elastic net} =   \\frac{n}{n+\\lambda_R} \\hat \\beta^{lasso}$ based on the final ***lasso*** estimate\n",
        "    4. (D) None of the these options<br><br>\n",
        "    \n",
        "10. **Tikhonov regularization** estimates $\\hat \\beta^{Tikhonov}$ which soves $(X^TX + \\lambda I)\\beta = (X\\beta)^Ty$ resulting from optimization of\n",
        "$\\nabla \\beta \\left[ (y-X\\beta)^T(y-X\\beta) + \\lambda\\beta^T\\beta \\right] = \\beta^TX^TX\\beta + \\lambda\\beta^T\\beta - 2 (X\\beta)^Ty \\Longrightarrow 2X^TX\\beta + \\lambda2\\beta - 2 (X\\beta)^Ty = 0$. **Ridge regression** should be estimated as<br><br>\n",
        "\n",
        "    1. (A) Coordinate Descent (as is done here)\n",
        "    2. (B) Matrix inversion\n",
        "    3. (C) Solving $Ax=b$\n",
        "    4. (D) $\\frac{n}{n+\\lambda} \\hat \\beta_j^{LS}$\n",
        "    \n"
      ]
    },
    {
      "cell_type": "code",
      "execution_count": 18,
      "id": "74fea8f1",
      "metadata": {
        "id": "74fea8f1"
      },
      "outputs": [],
      "source": [
        "p4q7 = \"C\"\n",
        "p4q8 = \"C\"\n",
        "p4q9 = \"C\"\n",
        "p4q10 = \"C\""
      ]
    },
    {
      "cell_type": "code",
      "execution_count": 18,
      "id": "0e665ec3",
      "metadata": {
        "id": "0e665ec3"
      },
      "outputs": [],
      "source": []
    },
    {
      "cell_type": "code",
      "execution_count": 18,
      "id": "3ec2b369",
      "metadata": {
        "id": "3ec2b369"
      },
      "outputs": [],
      "source": []
    },
    {
      "cell_type": "code",
      "execution_count": 19,
      "id": "2df2c694",
      "metadata": {
        "id": "2df2c694"
      },
      "outputs": [],
      "source": [
        "# Cell for scratch work\n",
        "\n",
        "# You are welcome to add cells into your notebook but\n",
        "# just don't runtime errors anywhere in your notebook\n",
        "# as cells are run sequentially for automated testing\n",
        "\n",
        "# Automated testing is looking for cells (`cell ids`)\n",
        "# where you're asked to enter answers or complete code\n",
        "# but all other cells like this one or cells you add\n",
        "# are safe to delete if you want a \"cleaner\" notebook\n"
      ]
    },
    {
      "cell_type": "code",
      "execution_count": 20,
      "id": "fa93d6d3",
      "metadata": {
        "id": "fa93d6d3"
      },
      "outputs": [],
      "source": [
        "# Cell for scratch work\n"
      ]
    },
    {
      "cell_type": "code",
      "execution_count": 20,
      "id": "3b2a2f4e",
      "metadata": {
        "id": "3b2a2f4e"
      },
      "outputs": [],
      "source": []
    },
    {
      "cell_type": "code",
      "execution_count": 20,
      "id": "ebe91a8b",
      "metadata": {
        "id": "ebe91a8b"
      },
      "outputs": [],
      "source": []
    }
  ],
  "metadata": {
    "kernelspec": {
      "display_name": "Python 3 (ipykernel)",
      "language": "python",
      "name": "python3"
    },
    "language_info": {
      "codemirror_mode": {
        "name": "ipython",
        "version": 3
      },
      "file_extension": ".py",
      "mimetype": "text/x-python",
      "name": "python",
      "nbconvert_exporter": "python",
      "pygments_lexer": "ipython3",
      "version": "3.11.4"
    },
    "colab": {
      "provenance": [],
      "include_colab_link": true
    }
  },
  "nbformat": 4,
  "nbformat_minor": 5
}
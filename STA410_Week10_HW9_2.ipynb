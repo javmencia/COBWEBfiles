{
  "cells": [
    {
      "cell_type": "markdown",
      "metadata": {
        "id": "view-in-github",
        "colab_type": "text"
      },
      "source": [
        "<a href=\"https://colab.research.google.com/github/javmencia/COBWEBfiles/blob/main/STA410_Week10_HW9_2.ipynb\" target=\"_parent\"><img src=\"https://colab.research.google.com/assets/colab-badge.svg\" alt=\"Open In Colab\"/></a>"
      ]
    },
    {
      "cell_type": "markdown",
      "metadata": {
        "id": "04oAqzRdpdEZ"
      },
      "source": [
        "# STA410 Week 10 Homework 9 (4 points)\n",
        "\n",
        "Due 12 PM Match 14 (before class starts)\n",
        "\n",
        "1. **Paired or individual assignment.** Work may be shared within pairs without restriction, but collaborations beyond the pairs must be limited to \"hints\" and may not share complete solutions.\n",
        "\n",
        "\n",
        "2. You are encouraged to adapt code you find available online **(including using AI chat bot suppport tools)** into your notebook; however, if you do so please provide a link to the utilized resource. ***If you don't and multiple students have the same answer an academic integrity proceeding may be undertaken.***  \n",
        "\n",
        "\n",
        "3. **Library imports are limited** to only libraries imported in the starter code and the [standard python modules](https://docs.python.org/3/py-modindex.html). Automated code tests that fail because of additional library imports will not recieve credit. Unless a problem instructs differently you may use any functions available from the Python stdlib and the libraries imported in the starter code.\n",
        "\n",
        "\n",
        "<details><summary><span style=\"color: blue; text-decoration: underline; cursor: pointer;\">Additional Details</span></summary>\n",
        "\n",
        "> **Do not delete, replace, or rearranged cells.** This erases `cell ids` upon which automated code tests are based. The \"Edit > Undo Delete Cells\" option in the notebook editor might be helpful; otherwise, redownload the notebook (so it has the correct required `cells ids`) and repopulate it with your answers (assuming you don't overwrite them when you redownload the notebook). ***You may add cells for scratch work*** but if required answers are not submitted through the provided cells where the answers are requested your answers may not be marked. Due to potential problems with `cell ids` **the only environments supported in this class are** [UofT JupyterHub](https://datatools.utoronto.ca/) or [Google Colab](https://colab.research.google.com/)\n",
        ">\n",
        "> **No jupyter shortcut commands** such as `! python script.py 10` or `%%timeit` may be included in the final submission as they will cause subsequent automated code tests to fail.\n",
        ">\n",
        "> **No cells may have any runtime errors** because this causes subsequent automated code tests to fail and you will not get marks for tests which fail because of previous runtime errors. ***Restart and re-run the cells in your notebook to ensure there are no runtime errors before submitting your work.***\n",
        "\n",
        "</details>\n"
      ]
    },
    {
      "cell_type": "markdown",
      "metadata": {
        "id": "YVosrieLp59d"
      },
      "source": [
        "## Student and Contribution\n",
        "\n",
        "Are you working with a partner to complete this assignment?  \n",
        "- If not, assign  the value of `None` into the variable `Partner`.\n",
        "- If so, assign the name of the person you worked with into the variable `Partner`.\n",
        "    - Format the name as `\"<First Name> <Last Name>\"` as a `str` type, e.g., \"Scott Schwartz\"."
      ]
    },
    {
      "cell_type": "code",
      "execution_count": 1,
      "metadata": {
        "id": "ZrTVMofDp6Ii"
      },
      "outputs": [],
      "source": [
        "Partner = None\n",
        "# This cell will produce a runtime error until you assign a value to this variable"
      ]
    },
    {
      "cell_type": "markdown",
      "metadata": {
        "id": "8mmjvHjSqMDi"
      },
      "source": [
        "What was your contribution in completing the code for this assignments problems?  \n",
        "Assign one of the following into each of the `Contribution` variable below.\n",
        "\n",
        "- `\"I worked alone\"`\n",
        "- `\"I contributed more than my partner\"`\n",
        "- `\"My partner and I contributed equally\"`\n",
        "- `\"I contributed less than my partner\"`\n",
        "- `\"I did not contribute\"`"
      ]
    },
    {
      "cell_type": "code",
      "execution_count": 2,
      "metadata": {
        "id": "eiHnbgbpqItj"
      },
      "outputs": [],
      "source": [
        "Contribution = \"I worked alone\"\n",
        "# This cell will produce a runtime error until you assign a value to this variable"
      ]
    },
    {
      "cell_type": "code",
      "execution_count": 3,
      "metadata": {
        "id": "0SVkJV58A5Tp"
      },
      "outputs": [],
      "source": [
        "import statsmodels.api as sm\n",
        "import numpy as np\n",
        "import matplotlib.pyplot as plt\n",
        "plt.style.use('seaborn-v0_8-colorblind')\n",
        "\n",
        "import torch\n"
      ]
    },
    {
      "cell_type": "markdown",
      "metadata": {
        "id": "mSLfr4vQIiUo"
      },
      "source": [
        "## Part 1: Review\n",
        "\n",
        "---\n",
        "\n",
        "### Coordinate Descent Review\n",
        "\n",
        "---\n",
        "\n",
        "**Coordinate descent** minimization of the quadratic function $f(x) = x^TAx + bx + c$ with **square symmetric positive definite** $A$ (such as $X^TX$) is equivalent to solving the linear $Ax = b$ problem using **Gauss-Seidel**.\n",
        "\n",
        "- Minimization of the quadratic function $f(\\beta) = \\beta^T(X^TX+\\lambda I )\\beta - 2 X^Ty \\beta$ for $\\lambda > 0$ is equivalent to **ridge/Tikhonov regularization** solving $(X^TX+\\lambda I ) \\beta = X^Ty$\n",
        "\n",
        "- Minimization of the nearly but not quite quadratic function $f(\\beta) = \\beta^TX^TX\\beta - 2 X^Ty \\beta + 2\\lambda \\sum_{i=1}^p |\\beta_i|$ for $\\lambda > 0$ is **lasso regularization** but has no equivalent linear $A\\beta=b$ problem\n"
      ]
    },
    {
      "cell_type": "markdown",
      "metadata": {
        "id": "HqU-K1O49fyf"
      },
      "source": [
        "---\n",
        "\n",
        "### Gauss-Seidel and Nonlinear Gauss-Seidel \"Review\"\n",
        "\n",
        "---\n",
        "\n",
        "Using **coordinate descent** to minimize an arbitrary non quadratic function is called **nonlinear Gauss-Seidel** and solves $\\nabla_\\theta f(\\theta)=0$ **nonlinear** equations as opposed to linear equations $A\\theta=b$\n",
        "by iteratively solving for $\\theta_{i}^{(k+1)}$ via\n",
        "\n",
        "$$ \\displaystyle 0 = \\frac{\\partial}{\\partial \\theta_{j}}f(\\theta^{(k+1)}_j,\\cdots, \\theta_{j-1}^{(k+1)}, \\theta_{j}^{(k+1)}, \\theta_{j+1}^{(k)},\\cdots, \\theta_{p}^{(k)})$$\n",
        "\n",
        "The relative simplicity and well-behaved nature of solving **nonlinear** equations on the basis of cyclical iteration of univariate problems makes **nonlinear Gauss-Seidel** (**coordinate descent**) a fairly reliable method\n"
      ]
    },
    {
      "cell_type": "code",
      "execution_count": 4,
      "metadata": {
        "id": "3z4mLfiVWyk2"
      },
      "outputs": [],
      "source": [
        "p1q1 = \"Coordinate descent solutions for ridge/Tikhonov regularization \"+\\\n",
        "       \"would be called A\"\n",
        "# A: Gauss-Seidel\n",
        "# B: nonlinear Gauss-Seidel\n",
        "# C: both A and B\n",
        "# D: neigher A and B\n",
        "\n",
        "p1q2 = \"Coordinate descent solutions for lasso regularization \"+\\\n",
        "       \"would be called B\"\n",
        "# Use options above"
      ]
    },
    {
      "cell_type": "markdown",
      "metadata": {
        "id": "IMNUF8iYyJAH"
      },
      "source": [
        "---\n",
        "\n",
        "### Norms (and Metrics) Review\n",
        "\n",
        "---\n",
        "\n",
        "The **lasso** provides $L_1$ and $L_2$ examples of $L_p$ **norms** (and **metrics**)\n",
        "\n",
        "$\n",
        "\\begin{align*}\n",
        "\\underset{x}{\\text{argmin }} ||b - Ax||_p &={} \\underset{x}{\\text{argmin }} \\underset{L_p \\text{ norm or }\\Delta_p(b,Ax)\\text{ metric}}{\\left( \\sum_{i=1}^n |b_i - A_{i\\cdot}^Tx|^p \\right)^{\\frac{1}{p}}}\\\\ &\\overset{p=2}{=}{} \\underset{x}{\\text{argmin }} \\underset{1 \\times 1}{\\sqrt{(b - Ax)^T (b - Ax)}}\\\\\n",
        "&\\overset{p=1}{=}{} \\underset{x}{\\text{argmin }} \\sum_{i=1}^n |b_i - A_{i\\cdot}^Tx|\n",
        "\\end{align*}$\n",
        "\n",
        "While the quadradic problem provides an example of the **elliptical norm** (often called **mahalanobis \"distance\"**)\n",
        "\n",
        "$\n",
        "\\begin{align*}\n",
        "\\underset{x}{\\text{argmin }} ||b - Ax||_2^{A^{-1}} &={} \\underset{x}{\\text{argmin }} \\underset{1 \\times 1: \\text{ mahalanobis distance}}{(b - Ax)^T A^{-1} (b - Ax)} = \\\\\n",
        "&={} \\underset{x}{\\text{argmin }} x^TAx - 2x^Tb + c\n",
        "\\end{align*}$\n",
        "\n",
        "And **ridge/Tikhonov** provides can be expresssed in terms of $L_2$ **norms** but most simply seen as and $Ax=b$ problem resulting from an **eliptical norm**\n",
        "\n",
        "$\n",
        "\\begin{align*}\n",
        "\\underset{\\beta}{\\text{argmin }} ||X^Ty - (X^TX+\\lambda I)\\beta ||_2^{(X^TX+\\lambda I)^{-1}}\n",
        "&={} \\underset{\\beta}{\\text{argmin }} \\underset{1 \\times 1: \\text{ mahalanobis distance}}{(X^Ty - (X^TX+\\lambda I)\\beta)^T (X^TX+\\lambda I )^{-1} (X^Ty - (X^TX+\\lambda I)\\beta)} \\\\\n",
        "&={} \\underset{\\beta}{\\text{argmin }} \\beta^T(X^TX+\\lambda I)\\beta  - 2\\beta^TX^Ty\n",
        "\\end{align*}$\n",
        "\n",
        "\n"
      ]
    },
    {
      "cell_type": "code",
      "execution_count": 5,
      "metadata": {
        "id": "B2MyZx3FZfIV"
      },
      "outputs": [],
      "source": [
        "p1q3 = \"Lasso regularization as exactly defined above \"+\\\n",
        "       \"would be expressed as C\"\n",
        "# Use options below\n",
        "\n",
        "p1q4 = \"Ridge/Tikhonov regularization as exactly defined above \"+\\\n",
        "       \"would be expressed as A\"\n",
        "# Use options below"
      ]
    },
    {
      "cell_type": "markdown",
      "metadata": {
        "id": "OEqG1wNuYU_G"
      },
      "source": [
        "A. $\\quad||y-X\\beta||_2^2 + \\lambda ||\\beta||_2^2$  \n",
        "\n",
        "B. $\\quad\\frac{1}{2}||y-X\\beta||_2^2 + \\lambda ||\\beta||_2^2$  \n",
        "\n",
        "C. $\\quad||y-X\\beta||_2^2 + \\lambda ||\\beta||_1 $\n",
        "\n",
        "D. $\\quad\\frac{1}{2}||y-X\\beta||_2^2 + \\lambda ||\\beta||_1 $\n"
      ]
    },
    {
      "cell_type": "markdown",
      "metadata": {
        "id": "2SbMxGFIDDlA"
      },
      "source": [
        "---\n",
        "### Loss, Penalty, and Cost functions \"Review\"\n",
        "---\n",
        "\n",
        "A **loss function** measures a distance between $y_i$ and a prediction of $\\hat y_i = g_{\\hat \\theta}(\\textbf{x}_i)$ of some  model based on estimated $\\hat \\theta$.\n",
        "\n",
        "- $||y_i - \\hat y_i||_2^2$ The **squared** $L_2$ norm of the $y_i - \\hat y_i$ difference is a common **loss function** choice.\n",
        "\n",
        "A **penalty function** is a measure of **complexity** for model parameter $\\theta$ that is scaled by some **penalization term** $\\lambda > 0$.\n",
        "\n",
        "- $\\lambda ||\\theta||_p^p$ the $\\lambda$ times the $L_p$ norm of $\\theta$ raised to the $p^{th}$ power is a common **penality function** choice.\n",
        "\n",
        "A **cost function** is the sum of the **loss functions** over all $i$ plus the **penality function**.\n",
        "\n",
        "- Expressing this more generally for nonlinear $g_\\theta$ this could be\n",
        "\n",
        "  $$f(\\theta) = \\sum_{i=1}^n||y_i - g_\\theta(\\textbf{x}_i)||_2^2 + \\lambda ||\\theta||_p^p = ||y - g_\\theta(X)||_2^2 + \\lambda ||\\theta||_p^p$$"
      ]
    },
    {
      "cell_type": "code",
      "execution_count": null,
      "metadata": {
        "id": "SqzsCeFqcJbM"
      },
      "outputs": [],
      "source": [
        "p1q5 = \"Is a 1/2 factor scaling the loss function \"+\\\n",
        "       \"crucially important for the cost function? D\"\n",
        "# A: Yes, otherwise the lambda will not work\n",
        "# B: Yes, but only for an L1 penalty\n",
        "# C: Yes, but only for an L2 penalty\n",
        "# D: No, it can be viewed already represented in the parameterization of lambda\n",
        "\n",
        "p1q6 = \"The loss function is a C\"\n",
        "# A: norm\n",
        "# B: metric\n",
        "# C: Both A and B\n",
        "# D: Niether A nor B\n",
        "\n",
        "p1q7 = \"The cost function is a D\"\n",
        "# A: norm\n",
        "# B: metric\n",
        "# C: Both A and B\n",
        "# D: Niether A nor B\n",
        "\n",
        "p1q8 = \"The penalty function is a A\"\n",
        "# A: norm\n",
        "# B: metric\n",
        "# C: Both A and B\n",
        "# D: Niether A nor B\n",
        "\n",
        "p1q9 = \"The function being optimized is the C\"\n",
        "# A: loss function\n",
        "# B: penalty function\n",
        "# C: cost function\n",
        "# D: None of the above\n",
        "\n",
        "p1q10 = \"The gradient of the cost function above is the B\"\n",
        "# A: sum of the loss and penalty functions\n",
        "# B: sum of the gradients of the loss and penalty functions\n",
        "# C: Niether A nor B\n",
        "# D: some other function\n"
      ]
    },
    {
      "cell_type": "markdown",
      "metadata": {
        "id": "UIIbT0x1_XXc"
      },
      "source": [
        "---\n",
        "\n",
        "### Gradients Review\n",
        "\n",
        "---\n",
        "\n",
        "The **gradient operator** $\\nabla_{\\theta}$ generalizes the **derivative** for scalar quantities as the vector of **partial derivatives** with respect to the input $\\theta_i$ of its scalar valued multivariate function argument $f(\\theta)$\n",
        "\n",
        "$$ \\nabla_{\\theta}[f(\\theta)] = \\nabla_{\\theta} f(\\theta) = \\frac{\\partial f(\\theta)}{\\partial \\theta_1} e_1 + \\cdots + \\frac{\\partial f(\\theta)}{\\partial \\theta_j} e_j + \\cdots + \\frac{\\partial f(\\theta)}{\\partial \\theta_n} e_n \\quad \\text{for }\\textbf{standard basis vectors} \\;e_j$$\n",
        "\n",
        "The **derivative** and the **gradient operators** (functions of functions returning functions) are **linear**\n",
        "\n",
        "$$\\nabla_{\\theta}(af(\\theta)+bh(\\theta)) = a\\nabla_{\\theta}f(\\theta) + b\\nabla_{\\theta}h(\\theta)$$\n"
      ]
    },
    {
      "cell_type": "markdown",
      "metadata": {
        "id": "geKWSYD_x_nR"
      },
      "source": [
        "## Part 2 A: Gradient (Steepest Direction) Descent\n",
        "\n",
        "---\n",
        "\n",
        "For some **cost function** $f(\\theta)$ **coordinate decent** \"optimally\" updates each $\\theta_j^{(k+1)}$ based on solving $\\frac{\\partial f(\\theta)}{\\partial \\theta_j} = 0$ which means updating $\\theta^{(k+1)}$ only in the direction of $e_j$.\n",
        "\n",
        "The **negative gradient**\n",
        "\n",
        "$$ -\\left[\\nabla_{\\theta} f(\\theta)\\right]\\!(\\theta^{(k)}) \\; \\text { evaluated at $\\theta^{(k)} \\quad $ which we write as } \\; -\\nabla_\\theta f(\\theta^{(k)})$$\n",
        "\n",
        "is the [direction of steepest descent](https://math.stackexchange.com/questions/223252/why-is-gradient-the-direction-of-steepest-ascent) of $f(\\theta)$ at $\\theta^{(k)}$.\n",
        "\n",
        "Rather than \"optimally\" moving along a single coordinate direction $e_j$ to minimize (scalar valued multivariate) **cost function** $f(\\theta)$, moving instead in the direction of the **negative gradient** $d^{(k)} = -\\nabla_\\theta f(\\theta^{(k)})$ seems like an intuitive choice for efficiently updating $\\theta^{(k+1)} = \\theta^{(k)} +\\alpha^{(k)}d^{(k)}$ along multiple coordinate axes simultaneously.\n",
        "\n",
        "> Note that unlike **coordinate descent** this is not solving for \"optimal\" update such as $\\displaystyle \\min_{\\alpha^{(k)}} f(\\theta^{(k+1)} = \\theta^{(k)} +\\alpha^{(k)}d^{(k)})$ but rather is moving from $\\theta^{(k)}$ in the direction $d^{(k)}$ to $\\theta^{(k+1)}$ according to the (scalar) **step size** (or **learning rate**) parameter $\\alpha^{(k)}$.\n"
      ]
    },
    {
      "cell_type": "markdown",
      "metadata": {
        "id": "yBJSrzzif9OZ"
      },
      "source": [
        "---\n",
        "\n",
        "### Will this iterative method converge?\n",
        "---\n",
        "Suppose $\\theta^*$ solves $\\nabla_\\theta f(\\theta^*) = 0$ and consider\n",
        "\n",
        "$\\begin{align*}\\require{cancel}\n",
        "\\theta^{(k+1)} - \\theta^* &={} \\theta^{(k)} -\\alpha^{(k)} \\nabla_\\theta f(\\theta^{(k)}) - \\theta^*\\\\\n",
        "&={} (\\theta^{(k)} - \\theta^*) - \\alpha^{(k)} \\nabla_\\theta f(\\theta^{(k)}) \\\\\n",
        "& \\quad {} \\text{first order multivariate Taylor series approximation}\\\\\n",
        "&\\approx{} (\\theta^{(k)} - \\theta^*) - \\alpha^{(k)} \\nabla_\\theta [ \\cancel{f(\\theta^*)}^0 + [\\nabla_\\theta f(\\theta^*)]^T (\\theta^{(k)} - \\theta^*)]\\\\\n",
        "&={} (I - \\alpha^{(k)} \\nabla_\\theta  [\\nabla_\\theta f(\\theta^*)]^T) (\\theta^{(k)} - \\theta^*) \\\\\n",
        "&={} (I - \\alpha^{(k)} \\nabla_\\theta  \\nabla_\\theta^T f(\\theta^*)) (\\theta^{(k)} - \\theta^*)\\\\\n",
        "&={} (I - \\alpha^{(k)} H f(\\theta^*))(\\theta^{(k)} - \\theta^*)\\\\\n",
        "\\end{align*}$\n",
        "\n",
        "where $H f(\\theta^*)$ is the **Hessian** of $f(\\theta)$ evaluated at $\\theta^*$.\n",
        "\n",
        "And this will converge so long as $||\\theta^{(k+1)} - \\theta^*|| \\leq ||(\\theta^{(k)} - \\theta^*)||$ which is possible if we are in the **radius of convergence** for **positive definite** $H f(\\theta^*)$ since (where the intital approximation is sufficient)\n",
        "\n",
        "$\\begin{align*}\n",
        "||\\theta^{(k+1)} - \\theta^*|| &\\approx{} ||(I - \\alpha^{(k)} H f(\\theta^*))(\\theta^{(k)} - \\theta^*)||\\\\\n",
        "& \\quad \\, {}^\\text{$||Ax||_2\\leq||A||\\cdot ||x||_2$ for the $L_2$ induced matrix norm}\\\\\n",
        "& \\leq{} ||(I - \\alpha^{(k)} H f(\\theta^*))|| \\cdot ||(\\theta^{(k)} - \\theta^*)|| \\\\\n",
        "&= \\underset{\\text{largest singular value}}{\\lambda^\\max_{(I - \\alpha^{(k)} H f(\\theta^*))}} \\times ||(\\theta^{(k)} - \\theta^*)||\n",
        "\\end{align*}$\n",
        "\n",
        "and there will be a sufficiently small $\\alpha^{(k)} > 0$ such that $\\lambda^\\max_{(I - \\alpha^{(k)} H f(\\theta^*))} < 1$.\n"
      ]
    },
    {
      "cell_type": "markdown",
      "metadata": {
        "id": "X7P1Pu_ff3ac"
      },
      "source": [
        "---\n",
        "\n",
        "> The [$L_2$ ***induced matrix norm***](https://en.wikipedia.org/wiki/Matrix_norm#Matrix_norms_induced_by_vector_norms) $\\left|\\left| A \\right|\\right|$ is the ***maximum singular value*** of $A$. If $A$ is positive definite, then all ***singular values*** $\\lambda_\\max > \\cdots > \\lambda_\\min > 0$.\n",
        "The ***singular values*** of $I-\\alpha A$ [are](https://math.stackexchange.com/questions/1297419/eigenvalues-of-a-matrix-a-plus-ci-for-some-constant-c) $|1-\\alpha \\lambda_i|$ for $i=1, \\cdots n$ so\n",
        "> $$\\text{if } \\quad 0 < \\alpha < \\frac{2}{\\lambda_\\max} \\quad \\text{ then } \\quad \\left|\\left| I - \\alpha M \\right|\\right| < 1$$\n",
        ">\n",
        "> and $x^{(t)}$ converges to $x^*$. However, the **maximum singular value** $1-\\alpha\\lambda_\\max=0$ for $\\alpha = \\frac{1}{\\lambda_\\max}$ is\n",
        ">\n",
        "> $$\\left|\\left|I - \\alpha M\\right|\\right| = 1-\\alpha\\lambda_\\min = 1 - \\frac{\\lambda_\\min}{\\lambda_\\max} = 1 - \\kappa^{-1}(M)$$\n",
        ">\n",
        ">  which is close to $1$ if the ***condition number*** of $M$ is large. Thus, if $\\kappa(M)>>1$ then $x^{(t)}$ can converge to $x^*$ slowly since $\\frac{||x^{(t+1)} - x^*||}{||x^{(t)} - x^*||^{\\beta=1}} \\leq \\left|\\left|I - \\alpha M \\right|\\right| \\approx 1$ does not guarantee better than very slow ***linear convergence***\n",
        "\n",
        "---"
      ]
    },
    {
      "cell_type": "markdown",
      "metadata": {
        "id": "VvciUyL4fpga"
      },
      "source": [
        "---\n",
        "### Part 2A Questions\n",
        "---\n",
        "\n",
        "1. For the quadratic function $f(\\theta) = \\frac{1}{2}(b - A \\theta )^T A^{-1} (b - A \\theta)$ with **square symmetric positive definite** $A$ (such as $A=X^TX$ and $b=X^Ty$) updating $\\theta^{(k)}$ in the direction $\\theta^{(k+1)} = \\theta^{(k)} + \\alpha \\left[ - \\nabla_{\\theta} f(\\theta^{(k)}) \\right]$ is\n",
        "\n",
        "    1. (A) $\\quad \\theta^{(k)} + \\alpha^{(k)} (b - A\\theta^{(k)})$\n",
        "    2. (B) $\\quad \\theta^{(k)} - \\alpha^{(k)} (b - A\\theta^{(k)})$\n",
        "    3. (C) $\\quad \\theta^{(k)} + \\alpha^{(k)} (b - (A+ I)\\theta^{(k)})$\n",
        "    4. (D) $\\quad \\theta^{(k)} - \\alpha^{(k)} (b - (A- I)\\theta^{(k)})$\n",
        "\n",
        "\n",
        "2. For quadratic function $f(\\theta)$ of the previous problem if $b = A\\theta^{(k)}$ then\n",
        "\n",
        "    1. (A) $\\quad \\theta^{(k)}$ is at the minimum\n",
        "    2. (B) $\\quad \\theta^{(k+1)}$ will not differ from $\\theta^{(k)}$\n",
        "    3. (C) $\\quad$ both A and B are true\n",
        "    4. (D) $\\quad$ none of the above are true\n",
        "\n",
        "\n",
        "3. For quadratic function $f(\\theta)$ of the previous problems the $s$ sequential steps of $\\theta^{(k+1)} = \\theta^{(k)} + \\alpha^{(k)} \\left[ - \\nabla_{\\theta} f(\\theta^{(k)}) \\right]$ update operation (assuming $\\nabla_{\\theta} f(\\theta^{(k)})$ is known analytically) is\n",
        "\n",
        "    1. (A) $\\quad O(sp^2)$ just as for **Guass-Seidel**\n",
        "    2. (B) $\\quad O(sp(p-m))$ as for **Guass-Seidel**\n",
        "    3. (C) $\\quad O(p^3)$ just as for **matrix inversion**\n",
        "    4. (D) $\\quad$ none of the above\n",
        "\n",
        "\n",
        "4. For quadratic function $f(\\theta)$ of the previous problems convergence <can|cannot> be guaranteed for some appropriate step size factors $\\alpha^{(k)}>0$ assuring $f(\\theta^{(k+1)}) < f(\\theta^{(k)})$\n",
        "\n",
        "\n",
        "5. For $\\theta^*$ minimizing quadratic function $f(\\theta)$ of the previous problems so $A\\theta^*=b$ what (not necessarily scalar) $\\alpha^{(k)}$ makes $\\theta^{(k+1)} = \\theta^*$ and hence shows that one step of **gradient descent** does not find $\\theta^*$?\n",
        "\n",
        "    1. (A) $\\quad \\alpha^{(k)} = 1$\n",
        "    2. (B) $\\quad \\alpha^{(k)} = I$\n",
        "    3. (C) $\\quad \\alpha^{(k)} = A^{-1}$\n",
        "    4. (D) $\\quad$ None of the above\n",
        "\n",
        "\n",
        "6. What is the **Hessian** of the quadratic function $f(\\theta)$ of the previous problems?\n",
        "\n",
        "    1. (A) $\\quad A$\n",
        "    2. (B) $\\quad A^{-1}$\n",
        "    3. (C) $\\quad \\nabla_\\theta^T\\nabla_\\theta f(\\theta)$\n",
        "    4. (D) $\\quad$ None of the above\n",
        "\n",
        "\n",
        "7. For a **ridge/Tikhonov cost function** $f(\\beta)$ specified as $\\frac{1}{2}||y-X\\beta||_2^2 + \\frac{1}{2}\\lambda ||\\beta||_2^2$ for $\\lambda > 0$ **gradient descent** (steepest direction) updating $\\beta^{(k+1)} = \\beta^{(k)} + \\alpha \\left[ - \\nabla_{\\beta} f(\\beta^{(k)}) \\right]$ is\n",
        "\n",
        "    1. (A) $\\quad \\beta^{(k+1)} = \\beta^{(k)} + \\alpha^{(k)}(X^Ty - X^TX\\beta^{(k)})$\n",
        "    2. (B) $\\quad \\beta^{(k+1)} = \\beta^{(k)} + \\alpha^{(k)}(X^Ty - X^TX\\beta^{(k)} - \\lambda \\beta^{(k)})$\n",
        "    3. (C) $\\quad \\beta^{(k+1)} = \\beta^{(k)} + \\alpha^{(k)}(X^Ty - X^TX\\beta^{(k)} - \\lambda \\times \\text{sign}(\\beta^{(k)}))$\n",
        "    4. (D) $\\quad \\beta^{(k+1)} = \\beta^{(k)} + \\alpha^{(k)}(X^Ty - X^TX\\beta^{(k)} - \\lambda \\beta^{(k)} - \\lambda \\times \\text{sign}(\\beta^{(k)}))$\n",
        "    5. (E) $\\quad$ None of the above\n",
        "    \n",
        "\n",
        "8. For a **lasso cost function** $f(\\beta)$ specified as $\\frac{1}{2}||y-X\\beta||_2^2 + \\lambda ||\\beta||_1$ for $\\lambda > 0$ **gradient descent** (steepest direction) updating $\\beta^{(k+1)} = \\beta^{(k)} + \\alpha \\left[ - \\nabla_{\\beta} f(\\beta^{(k)}) \\right]$ is\n",
        "\n",
        "    1. (A) $\\quad \\beta^{(k+1)} = \\beta^{(k)} + \\alpha^{(k)}(X^Ty - X^TX\\beta^{(k)})$\n",
        "    2. (B) $\\quad \\beta^{(k+1)} = \\beta^{(k)} + \\alpha^{(k)}(X^Ty - X^TX\\beta^{(k)} - \\lambda \\beta^{(k)})$\n",
        "    3. (C) $\\quad \\beta^{(k+1)} = \\beta^{(k)} + \\alpha^{(k)}(X^Ty - X^TX\\beta^{(k)} - \\lambda \\times \\text{sign}(\\beta^{(k)}))$\n",
        "    4. (D) $\\quad \\beta^{(k+1)} = \\beta^{(k)} + \\alpha^{(k)}(X^Ty - X^TX\\beta^{(k)} - \\lambda \\beta^{(k)} - \\lambda \\times \\text{sign}(\\beta^{(k)}))$\n",
        "    5. (E) $\\quad$ None of the above\n",
        "\n",
        "\n",
        "9. For a **elastic net cost function** $f(\\beta)$ specified as $\\frac{1}{2}||y-X\\beta||_2^2 + \\frac{1}{2}\\lambda ||\\beta||_2^2 + \\lambda ||\\beta||_1$ for $\\lambda > 0$ **gradient descent** (steepest direction) updating $\\beta^{(k+1)} = \\beta^{(k)} + \\alpha \\left[ - \\nabla_{\\beta} f(\\beta^{(k)}) \\right]$ is\n",
        "\n",
        "    1. (A) $\\quad \\beta^{(k+1)} = \\beta^{(k)} + \\alpha^{(k)}(X^Ty - X^TX\\beta^{(k)})$\n",
        "    2. (B) $\\quad \\beta^{(k+1)} = \\beta^{(k)} + \\alpha^{(k)}(X^Ty - X^TX\\beta^{(k)} - \\lambda \\beta^{(k)})$\n",
        "    3. (C) $\\quad \\beta^{(k+1)} = \\beta^{(k)} + \\alpha^{(k)}(X^Ty - X^TX\\beta^{(k)} - \\lambda \\times \\text{sign}(\\beta^{(k)}))$\n",
        "    4. (D) $\\quad \\beta^{(k+1)} = \\beta^{(k)} + \\alpha^{(k)}(X^Ty - X^TX\\beta^{(k)} - \\lambda \\beta^{(k)} - \\lambda \\times \\text{sign}(\\beta^{(k)}))$\n",
        "    5. (E) $\\quad$ None of the above\n",
        "\n",
        "\n",
        "10. For $\\hat y^{(k)} = g_{\\hat \\theta}^{(k)}(X)$ and **cost function** $\\frac{1}{2} ||y-g_{\\hat \\theta}^{(k)}(X)||_2^2$ what is the **gradient descent** update $-\\nabla_{\\hat y^{(k)}} \\frac{1}{2} ||y-g_{\\hat \\theta}^{(k)}(X)||_2^2$ with respect to $\\hat y^{(k)}$ and the cooresponding **gradient boosting** update based on $b^{(k)}(X) \\approx y - \\hat y^{(k)}$?\n",
        "\n",
        "    1. (A) $\\quad \\hat y^{(k)} + \\alpha^{(k)}(y - \\hat y^{(k)})$ and $g_{\\hat \\theta}^{(k+1)}(X) = g_{\\hat \\theta}^{(k)}(X) + \\alpha^{(k)}b^{(k)}(X)$   \n",
        "    2. (B) $\\quad \\hat y^{(k)} + \\alpha^{(k)}(y - \\hat y^{(k)})$ and $\\hat y^{(k)} + \\alpha^{(k)}(y - \\hat y^{(k)})$\n",
        "    3. (C) $\\quad g_{\\hat \\theta}^{(k+1)}(X) = g_{\\hat \\theta}^{(k)}(X) + \\alpha^{(k)}b^{(k)}(X)$ and $\\hat y^{(k)} + \\alpha^{(k)}(y - \\hat y^{(k)})$  \n",
        "    4. (D) $\\quad g_{\\hat \\theta}^{(k+1)}(X) = g_{\\hat \\theta}^{(k)}(X) + \\alpha^{(k)}b^{(k)}(X)$ and $g_{\\hat \\theta}^{(k+1)}(X) = g_{\\hat \\theta}^{(k)}(X) + \\alpha^{(k)}b^{(k)}(X)$\n"
      ]
    },
    {
      "cell_type": "code",
      "execution_count": 6,
      "metadata": {
        "id": "8eN-4AYvnNQZ"
      },
      "outputs": [],
      "source": [
        "p2q1 = \"A\"\n",
        "p2q2 = \"C\"\n",
        "p2q3 = \"A\"\n",
        "p2q4 = \"can\"\n",
        "p2q5 = \"C\"\n",
        "p2q6 = \"A\"\n",
        "p2q7 = \"B\"\n",
        "p2q8 = \"C\"\n",
        "p2q9 = \"D\"\n",
        "p2q10 = \"A\"\n"
      ]
    },
    {
      "cell_type": "markdown",
      "metadata": {
        "id": "9FKgLyxHVNgL"
      },
      "source": [
        "---\n",
        "\n",
        "## Part 2 B: Gradient Descent not Coordinate Descent\n",
        "\n",
        "\n",
        "Complete the functions below for the given fixed scalar **step size** (**learning rate**) $\\alpha^{(k)} = \\alpha > 0$\n",
        "\n",
        "- for a **ridge/Tikhonov cost function** $f(\\beta) = \\frac{1}{2}||y-X\\beta||_2^2 + \\frac{1}{2}\\lambda ||\\beta||_2^2$ for $\\lambda > 0$\n",
        "- for a **lasso cost function** $f(\\beta) = \\frac{1}{2}||y-X\\beta||_2^2 + \\lambda ||\\beta||_1$ for $\\lambda > 0$\n"
      ]
    },
    {
      "cell_type": "code",
      "execution_count": 7,
      "metadata": {
        "colab": {
          "base_uri": "https://localhost:8080/"
        },
        "id": "LLzNCNRM6W7S",
        "outputId": "dca9ed0e-d257-408a-e36f-039d3d6c4c55"
      },
      "outputs": [
        {
          "output_type": "execute_result",
          "data": {
            "text/plain": [
              "array([[-0.19588953],\n",
              "       [ 1.626723  ],\n",
              "       [-1.44967936],\n",
              "       [ 0.4142235 ],\n",
              "       [-3.57801491],\n",
              "       [ 1.444047  ],\n",
              "       [ 0.15763526],\n",
              "       [ 1.23776483],\n",
              "       [ 0.47595069],\n",
              "       [-0.31702919]])"
            ]
          },
          "metadata": {},
          "execution_count": 7
        }
      ],
      "source": [
        "mtcars = sm.datasets.get_rdataset(\"mtcars\")\n",
        "y = mtcars.data[['mpg']].values\n",
        "y = y-y.mean()\n",
        "X = mtcars.data[['cyl', 'disp', 'hp', 'drat', 'wt', 'qsec', 'vs', 'am', 'gear','carb']].values\n",
        "X = (X-X.mean(axis=0))\n",
        "X = X / (X**2).mean(axis=0)**0.5\n",
        "model = sm.OLS(y,X); results = model.fit()\n",
        "beta0 = results.summary2().tables[1].values[:,:1]\n",
        "beta0"
      ]
    },
    {
      "cell_type": "code",
      "execution_count": 8,
      "metadata": {
        "id": "_4OrHl4_3X0O"
      },
      "outputs": [],
      "source": [
        "\"\"\"def fit_ridge_gradient_descent(X, y, beta0, lambda_,\n",
        "                               alpha=0.0001, K=1000, epsilon=1e-10):\n",
        "    '''\n",
        "    Ridge Regression fitting using gradient not coordinate descent\n",
        "\n",
        "    X     [np.array shape=(n,p)]: mean 0 standard deviation 1 columns\n",
        "    y     [np.array shape=(n,p)]: mean 0 column\n",
        "    beta0 [np.array shape=(p,1)]: initial value\n",
        "\n",
        "    alpha   [float > 0]: scalar step size (learning rate) for gradient descent\n",
        "    lambda_ [float > 0]: regularization hyperparameter:\n",
        "                         the larger this value the greater the regularization\n",
        "    K         [int > 0]: default 1000 maximum number of interations\n",
        "    epsilon [float > 0]: trigger early stopping and return beta if\n",
        "                         (beta-beta0).T.dot(beta-beta0) < epsilon\n",
        "\n",
        "    returns Ridge regression beta-hat of yhat = X beta-hat\n",
        "    '''\n",
        "\n",
        "    beta = beta0.copy()\n",
        "    for k in range(K):\n",
        "        beta0 = beta.copy()\n",
        "        beta = beta0  # Complete\n",
        "\n",
        "        if (beta-beta0).T.dot(beta-beta0) < epsilon:\n",
        "            return beta\n",
        "\n",
        "    return beta\n",
        "\n",
        "def fit_lasso_gradient_descent(X, y, beta0, lambda_,\n",
        "                               alpha=0.0001, K=1000, epsilon=1e-10):\n",
        "    '''\n",
        "    Lasso Regression fitting using gradient not coordinate descent\n",
        "\n",
        "    X     [np.array shape=(n,p)]: mean 0 standard deviation 1 columns\n",
        "    y     [np.array shape=(n,p)]: mean 0 column\n",
        "    beta0 [np.array shape=(p,1)]: initial value\n",
        "\n",
        "    alpha   [float > 0]: scalar step size (learning rate) for gradient descent\n",
        "    lambda_ [float > 0]: regularization hyperparameter:\n",
        "                         the larger this value the greater the regularization\n",
        "    K         [int > 0]: default 1000 maximum number of interations\n",
        "    epsilon [float > 0]: trigger early stopping and return beta if\n",
        "                         (beta-beta0).T.dot(beta-beta0) < epsilon\n",
        "\n",
        "    returns Lasso regression beta-hat of yhat = X beta-hat\n",
        "    '''\n",
        "\n",
        "    beta = beta0.copy()\n",
        "    for k in range(K):\n",
        "        beta0 = beta.copy()\n",
        "        beta = beta0  # Complete\n",
        "\n",
        "        # Lasso optimally sets coefficients to zero during coordinate descent\n",
        "        # so this will serve the analogous purpose for gradient descent\n",
        "        # but in a Jacobi rather than Gauss-Seidel spirit of gradient descent\n",
        "        zero = np.ones(beta0.shape)\n",
        "        for j in range(len(beta0)):\n",
        "            beta0 = beta.copy()\n",
        "            beta0[j] = 0\n",
        "            if np.abs((y-X@beta0).T.dot(X[:,j:(j+1)])[0,0]) <= lambda_:\n",
        "                zero[j] = 0\n",
        "        beta = beta*zero\n",
        "\n",
        "        if (beta-beta0).T.dot(beta-beta0) < epsilon:\n",
        "            return beta\n",
        "\n",
        "    return beta\n",
        "\n",
        "\"\"\"\n",
        "def fit_ridge_gradient_descent(X, y, beta0, lambda_,\n",
        "                               alpha=0.0001, K=1000, epsilon=1e-10):\n",
        "    '''\n",
        "    Ridge Regression fitting using gradient descent\n",
        "\n",
        "    Parameters:\n",
        "    X     [np.array (n, p)]: Mean 0, standard deviation 1 columns\n",
        "    y     [np.array (n, 1)]: Mean 0 column\n",
        "    beta0 [np.array (p, 1)]: Initial value\n",
        "\n",
        "    alpha   [float > 0]: Learning rate for gradient descent\n",
        "    lambda_ [float > 0]: Regularization parameter\n",
        "    K       [int > 0]: Maximum number of iterations (default 1000)\n",
        "    epsilon [float > 0]: Convergence tolerance\n",
        "\n",
        "    Returns:\n",
        "    beta-hat [np.array (p, 1)]: Estimated coefficients\n",
        "    '''\n",
        "\n",
        "    beta = beta0.copy()\n",
        "    for k in range(K):\n",
        "        beta_prev = beta.copy()\n",
        "\n",
        "        # Compute the gradient\n",
        "        grad = X.T @ (X @ beta - y) + lambda_ * beta\n",
        "\n",
        "        # Gradient descent update\n",
        "        beta = beta - alpha * grad\n",
        "\n",
        "        # Check for convergence\n",
        "        if np.linalg.norm(beta - beta_prev) ** 2 < epsilon:\n",
        "            return beta\n",
        "\n",
        "    return beta\n",
        "\n",
        "\n",
        "def fit_lasso_gradient_descent(X, y, beta0, lambda_,\n",
        "                               alpha=0.0001, K=1000, epsilon=1e-10):\n",
        "    '''\n",
        "    Lasso Regression fitting using gradient descent\n",
        "\n",
        "    Parameters:\n",
        "    X     [np.array (n, p)]: Mean 0, standard deviation 1 columns\n",
        "    y     [np.array (n, 1)]: Mean 0 column\n",
        "    beta0 [np.array (p, 1)]: Initial value\n",
        "\n",
        "    alpha   [float > 0]: Learning rate for gradient descent\n",
        "    lambda_ [float > 0]: Regularization parameter\n",
        "    K       [int > 0]: Maximum number of iterations (default 1000)\n",
        "    epsilon [float > 0]: Convergence tolerance\n",
        "\n",
        "    Returns:\n",
        "    beta-hat [np.array (p, 1)]: Estimated coefficients\n",
        "    '''\n",
        "\n",
        "    beta = beta0.copy()\n",
        "    for k in range(K):\n",
        "        beta_prev = beta.copy()\n",
        "\n",
        "        # Compute the gradient\n",
        "        grad = X.T @ (X @ beta - y)\n",
        "\n",
        "        # Soft-thresholding update\n",
        "        beta = np.sign(beta - alpha * grad) * np.maximum(0, np.abs(beta - alpha * grad) - alpha * lambda_)\n",
        "\n",
        "        # Check for convergence\n",
        "        if np.linalg.norm(beta - beta_prev) ** 2 < epsilon:\n",
        "            return beta\n",
        "\n",
        "    return beta\n"
      ]
    },
    {
      "cell_type": "code",
      "execution_count": 9,
      "metadata": {
        "id": "0y5pZfKx3zNA"
      },
      "outputs": [],
      "source": [
        "\"\"\"def get_trajectories(X, y, lambdas, fit_method, **kwargs):\n",
        "    '''\n",
        "    Lasso Regularization fits across regulation parameters\n",
        "\n",
        "    X     [np.array shape=(n,p)]: mean 0 standard deviation 1 columns\n",
        "    y     [np.array shape=(n,p)]: mean 0 column\n",
        "    lambdas [np.array shape=(q)]: regularization hyperparameters with\n",
        "                                  increasing lambdas (regularization strength)\n",
        "                                  where 0 indicates no regulation and\n",
        "                                  beta-hat is 0 for some large number\n",
        "    fit_method        [function]: such as\n",
        "                                  fit_lasso_gradient_descent or fit_lasso\n",
        "                                  fit_ridge_gradient_descent or fit_ridge\n",
        "    kwargs        [**dictionary]: passed to function as `**dictionary` such as\n",
        "                                **{\"alpha\" :0.0001, \"K\": 1000, \"epsilon\": 1e-10}\n",
        "                                  which may be forwareded to fit_method as\n",
        "                                  fit_method(..., **kwargs) as below\n",
        "\n",
        "    returns betas with betas.shape=(p,k+1) which are the regularization fits\n",
        "            across the lambdas for fit_method from least to most regularization\n",
        "    '''\n",
        "\n",
        "    model = sm.OLS(y,X); results = model.fit()\n",
        "    beta0 = results.summary2().tables[1].values[:,:1]\n",
        "    betas = np.zeros((X.shape[1],1+len(lambdas)))\n",
        "    betas[:,:1] = beta0.copy()  # make a copy for np.array\n",
        "    # as opposed to `betas[:,:1] = beta0` which is a \"reference\"\n",
        "    # otherwise changes in betas[:,:1] also change beta0\n",
        "\n",
        "    for i in range(len(lambdas)):\n",
        "        betas[:,i+1] = fit_method(X, y, betas[:,i].copy().reshape(betas.shape[0],1),\n",
        "                                  lambdas[i], **kwargs).reshape(betas.shape[0],)\n",
        "    return betas\n",
        "\"\"\"\n",
        "\n",
        "def get_trajectories(X, y, lambdas, fit_method, **kwargs):\n",
        "    '''\n",
        "    Computes regularization paths for Lasso/Ridge regression.\n",
        "\n",
        "    Parameters:\n",
        "    X       [np.array shape=(n,p)]: Features, standardized (mean=0, std=1)\n",
        "    y       [np.array shape=(n,1)]: Target variable, standardized (mean=0)\n",
        "    lambdas [np.array shape=(q)]: Regularization strengths (sorted increasing)\n",
        "    fit_method [function]: Function to fit Lasso/Ridge\n",
        "                           e.g., fit_lasso_gradient_descent or fit_ridge_gradient_descent\n",
        "    kwargs  [dict]: Additional arguments for fit_method (e.g., {\"alpha\": 0.0001, \"K\": 1000})\n",
        "\n",
        "    Returns:\n",
        "    betas [np.array shape=(p, len(lambdas)+1)]: Regularization paths\n",
        "    '''\n",
        "\n",
        "    # Ensure y is a column vector\n",
        "    if y.ndim == 1:\n",
        "        y = y.reshape(-1, 1)\n",
        "\n",
        "    # Compute initial OLS estimates\n",
        "    model = sm.OLS(y, X)\n",
        "    results = model.fit()\n",
        "    beta0 = results.params.reshape(-1, 1)  # Ensure it's a column vector\n",
        "\n",
        "    # Initialize beta matrix\n",
        "    betas = np.zeros((X.shape[1], len(lambdas) + 1))\n",
        "    betas[:, 0] = beta0.flatten()  # Store OLS estimates as first column\n",
        "\n",
        "    # Compute paths across lambda values\n",
        "    for i, lambda_ in enumerate(lambdas):\n",
        "        betas[:, i + 1] = fit_method(X, y, betas[:, i].reshape(-1, 1), lambda_, **kwargs).flatten()\n",
        "\n",
        "    return betas"
      ]
    },
    {
      "cell_type": "code",
      "execution_count": 10,
      "metadata": {
        "colab": {
          "base_uri": "https://localhost:8080/",
          "height": 476
        },
        "id": "te7dDK423o4s",
        "outputId": "5db1d1a9-8fe3-48fd-d2fb-cd89fbc26e15"
      },
      "outputs": [
        {
          "output_type": "display_data",
          "data": {
            "text/plain": [
              "<Figure size 640x480 with 1 Axes>"
            ],
            "image/png": "[encoded data removed]"
          },
          "metadata": {}
        }
      ],
      "source": [
        "lambdas = np.logspace(-2, 4, 100)\n",
        "# Use the default values for fit_ridge_gradient_descent, but this demonstrates kwargs\n",
        "betas = get_trajectories(X, y, lambdas, fit_ridge_gradient_descent, **{\"alpha\":0.0001})\n",
        "for i in range(betas.shape[0]):\n",
        "    plt.plot(np.concatenate([np.array([lambdas[0] - (lambdas[1]-lambdas[0])]), lambdas]), betas[i,:])\n",
        "plt.xscale(\"log\")\n",
        "plt.xlabel(\"lambda\")\n",
        "plt.ylabel(\"beta coefficient\")\n",
        "plt.title(\"Ridge Shrinkage Plot\");\n"
      ]
    },
    {
      "cell_type": "code",
      "execution_count": 11,
      "metadata": {
        "colab": {
          "base_uri": "https://localhost:8080/",
          "height": 476
        },
        "id": "9OyxTH9Wq2tj",
        "outputId": "d29feae7-2d55-450c-9002-5e538e08a2a7"
      },
      "outputs": [
        {
          "output_type": "display_data",
          "data": {
            "text/plain": [
              "<Figure size 640x480 with 1 Axes>"
            ],
            "image/png": "[encoded data removed]"
          },
          "metadata": {}
        }
      ],
      "source": [
        "loglambdas = np.linspace(-2, 6, 100)\n",
        "lambdas = np.exp(loglambdas)\n",
        "# Use the default values for fit_ridge_gradient_descent, but this demonstrates kwargs\n",
        "betas = get_trajectories(X, y, lambdas, fit_lasso_gradient_descent, **{\"alpha\":0.0001})\n",
        "for i in range(betas.shape[0]):\n",
        "    plt.plot(np.concatenate([np.array([lambdas[0] - (lambdas[1]-lambdas[0])]), lambdas]), betas[i,:])\n",
        "plt.xscale(\"log\")\n",
        "plt.xlabel(\"lambda\")\n",
        "plt.ylabel(\"beta coefficient\")\n",
        "plt.title(\"Lasso Shrinkage Plot\");"
      ]
    },
    {
      "cell_type": "markdown",
      "metadata": {
        "id": "HkDQjJDlqeX-"
      },
      "source": [
        "## Part 3: Neural Networks and PyTorch\n",
        "\n",
        "---\n",
        "\n",
        "Minimize the **cost function** based on $L_p$ penalized squared $L_2$ loss  \n",
        "\n",
        "$$||y_{n\\times 1}-f_{A^{(1)},b^{(1)},A^{(2)},b^{(2)},\\beta,\\beta_0}(X_{n\\times p})||_2^2 + \\lambda_1 \\sum_{ij} ||A^{(1)}_{ij}||_p + \\lambda_2 \\sum_{ij} ||A^{(2)}_{ij}||_p $$\n",
        "\n",
        "by using **PyTorch** to perform **gradient descent** for the parameters $A^{(1)}_{p\\times d}, b^{(1)}_{d_1 \\times 1}, A^{(2)}_{d_1\\times d_2}, b^{(2)}_{d_2 \\times 1},\\beta_{d_2 \\times 1}$ and $\\underset{1 \\times 1}{\\beta_0}$ of the model\n",
        "\n",
        "$$\\hat{y} = f_{A^{(1)}, b^{(1)}, A^{(2)}, b^{(2)},\\beta,\\beta_0}(X) = \\big((X A^{(1)} + b^{(1)T})_+ A^{(2)} + b^{(2)T}\\big)_+ \\beta + \\beta_0$$\n",
        "\n",
        "where $(\\cdot)_+$ is the so-called **ReLU nonlinear activation function** which sets all negative values within the object to $0$ and the $b^{(j)T}$ notation indicates adding the same row vector $b^{(j)T}$ to each row of the corresponding $n \\times d_j$ matrix it is being added to.\n",
        "\n",
        "- Each $A^{(j)}$ specifies a collection of **linear models** corresponding to the single **design matrix** it right-multiplies with the **coefficients** of each **linear model** given by the corresponding column of $A^{(j)}$ and element of $b^{(j)}$ (which represents the **intercept** of that model).\n",
        "\n",
        "- Note that the **ReLU nonlinear activation function** is applied to each of the outputs of the $A^{(j)}$ models while the outputs of the final single linear model specifed by $\\beta$ and $\\beta_0$ are not adjusted.\n",
        "\n"
      ]
    },
    {
      "cell_type": "markdown",
      "metadata": {
        "id": "xwZISKaNsIlV"
      },
      "source": [
        "---\n",
        "\n",
        "The function $f$ above specifies the standard shallow vanilla three layer **neural network** which for each data point pair $y_i$ and $x_i = X_{i\\cdot}^T = z^{(1)}_i$ is an alternating sequence of **affine transformations** $A^{(j)}z^{(j)}_i + b^{(j)}$ and [elementwise](https://math.stackexchange.com/questions/2324764/notation-for-element-wise-function-application) applications of **nonlinear ReLU activation functions** $q^{(j)}\\circ (A^{(j)}z_j + b^{(j)})$ concluding with a final identity (linear non transformation) function.\n",
        "\n",
        "\n",
        "A **deep neural network** is the extension of such sequence of alternating applications of (a) affine transformations and (b) elementwise activation function transformations of the previous affine transformation for some large $K$\n",
        "\n",
        "$$q_K \\circ (A_K \\{ \\cdots \\{q_2 \\circ (A_2\\{q_1 \\circ (A_1x + b_1)\\} + b_2)\\} \\cdots \\} + b_K)$$\n",
        "\n",
        "with only $q_K$ possibly being the identity (linear non transformation) function (for the purposes of **regression** as $f$ above demonstrates).\n",
        "\n",
        "The **architecture** of a **neural network** refers to the details of the specification above and any extensions beyond this form (increasing sophistication and extending behavioral capability for various purposes).\n",
        "\n",
        "Optimization of **deep neural network** can proceed on the basis  **gradient descent** which given the \"functions of functions of functions...\" nature of the specification will be a product of a sequence of partial derivatives as given by the **chain rule**. The so-called **forward pass** and **backpropegation** algorithm [to be discussed later] can automatically produce this sequence and product of partial derivatives. A key challange in this approach is that if the product of the many partial derivatives **vanishes** to zero then there is no **gradient** (or rather the **gradient** is $0$) and the algorithm no longer moves.\n",
        "\n",
        "1. The introduction of **ReLU activation functions** greatly facilitated the use of **deep neural network architectures** by mitigating the **vanishing gradients** probelm through their substituition in place of the **vanishing gradients** prone **inverse-logit (sigmoid) activation functions**.\n",
        "\n",
        "2. A more recent advance is the use of **batch norm** which encourages more **isotropically** behaved optimization surfaces that that are very well-suited to optimization using **gradient descent** and its more advanced augmentations [to be discussed later].\n",
        "\n",
        "**Deep neural networks** are the most flexible **universal** function approximation methodology available today. The https://arogozhnikov.github.io/3d_nn/ website has a visualization that suggests how flexible and powerful these are by animating how they increases accross the input space. Some good resources to continue learning about **deep neural network** are the [deep learning](https://www.deeplearningbook.org/) and [dive into deep learning](https://d2l.ai/) textbooks.\n"
      ]
    },
    {
      "cell_type": "code",
      "execution_count": null,
      "metadata": {
        "id": "I728sHKkeO4_"
      },
      "outputs": [],
      "source": [
        "# Complete `relu`, `squaredL2`, `L2_penalty`,`L1_penalty`, and `f()`\n",
        "# functions below and correctly compute `y_hat` and `cost`\n",
        "# given the initializations in the next cell\n",
        "\n",
        "# For `lambda_1,lambda_2 = 0,0` and `alpha = 0.0001`\n",
        "# Minimum K required to achieve a prediction error squared loss of less than 50\n",
        "p3q1 = \"NA\"  # Use NA if not possible for given options\n",
        "#NA\n",
        "\n",
        "# For `lambda_1,lambda_2 = 0,0` and `alpha = 0.00005`\n",
        "# Minimum K required to achieve a prediction error squared loss of less than 50\n",
        "p3q2 = \"6000\"  # Use NA if not possible for given options\n",
        "#6000\n",
        "\n",
        "# For `lambda_1,lambda_2 = 0,0` and `alpha = 0.000025`\n",
        "# Minimum K required to achieve a cost of less than 50\n",
        "p3q3 = \"8000\"  # Use NA if not possible for given options\n",
        "#8000\n",
        "\n",
        "# For `lambda_1,lambda_2 = 1,1` and `alpha = 0.00005` and the L2 penalties\n",
        "# Minimum K required to achieve a prediction error squared loss of less than 50\n",
        "p3q4 = \"4000\"  # Use NA if not possible for given options\n",
        "#4000\n",
        "\n",
        "# For `lambda_1,lambda_2 = 1,1` and `alpha = 0.00005` and the L1 penalties\n",
        "# Minimum K required to achieve a prediction error squared loss of less than 50\n",
        "p3q5 = \"6000\"  # Use NA if not possible for given options\n",
        "#6000\n",
        "\n",
        "# Now for the `mtcars` data set and initialization given below...\n",
        "\n",
        "# For `lambda_1,lambda_2 = 0,0` and `alpha = 0.00005`\n",
        "# Minimum K required to achieve an\n",
        "# out of sample prediction error squared loss of less than 100\n",
        "p3q6 = \"NA\"  # Use NA if not possible for given options\n",
        "#NA\n",
        "\n",
        "# For `lambda_1,lambda_2 = 10,10` and `alpha = 0.00005` and the L2 penalties\n",
        "# Minimum K required to achieve an\n",
        "# out of sample prediction error squared loss of less than 100\n",
        "p3q7 = \"4000\"  # Use NA if not possible for given options\n",
        "#4000\n",
        "\n",
        "# For `lambda_1,lambda_2 = 100,100` and `alpha = 0.00005` and the L2 penalties\n",
        "# Minimum K required to achieve an\n",
        "# out of sample prediction error squared loss of less than 100\n",
        "p3q8 = \"2000\"  # Use NA if not possible for given options\n",
        "#2000\n",
        "\n",
        "# For `lambda_1,lambda_2 = 100,100` and `alpha = 0.00005` and the L1 penalties\n",
        "# Minimum K required to achieve an\n",
        "# out of sample prediction error squared loss of less than 100\n",
        "p3q9 = \"2000\"  # Use NA if not possible for given options\n",
        "#2000\n",
        "\n",
        "# For `lambda_1,lambda_2 = 100,100` and `alpha = 0.000025` and the L1 penalties\n",
        "# Minimum K required to achieve an\n",
        "# out of sample prediction error squared loss of less than 50\n",
        "p3q10 = \"NA\"  # Use NA if not possible for given options\n",
        "#NA\n"
      ]
    },
    {
      "cell_type": "code",
      "execution_count": 12,
      "metadata": {
        "id": "-Kq0t6Xc6db2",
        "colab": {
          "base_uri": "https://localhost:8080/"
        },
        "outputId": "87c31a1d-55c0-4a38-c073-2e8126be0d3f"
      },
      "outputs": [
        {
          "output_type": "execute_result",
          "data": {
            "text/plain": [
              "(tensor([[ 3.7135e-01,  7.8351e-01,  4.0985e-01,  5.0174e-01, -8.6221e-01,\n",
              "          -9.5850e-01, -1.7441e+00,  2.4759e-01,  2.6772e-01, -8.7091e-01],\n",
              "         [-2.7452e+00, -7.9227e-01,  3.5836e-01, -1.0001e+00,  9.0083e-01,\n",
              "          -5.5339e-01,  1.0821e+00, -6.0887e-01, -5.7598e-01,  4.2388e-01],\n",
              "         [ 6.8300e-02, -8.0658e-01, -7.5698e-03,  1.9006e+00, -3.6595e-01,\n",
              "          -1.0565e+00, -9.9196e-01,  8.3150e-02, -6.8395e-01,  7.3149e-02],\n",
              "         [-2.2521e-01, -5.3584e-01, -1.2104e-01,  1.1418e+00,  2.1437e+00,\n",
              "          -2.8390e-01, -8.1552e-01, -7.4762e-02, -1.1017e+00,  1.0767e+00],\n",
              "         [ 1.7468e+00,  1.3388e+00, -1.1904e+00, -1.1329e+00, -1.8576e+00,\n",
              "          -6.9385e-01,  4.9757e-01, -2.9056e+00, -1.0349e+00, -4.9718e-01],\n",
              "         [-3.9227e-01,  2.3329e-03, -1.9132e+00,  1.5459e+00, -1.7141e+00,\n",
              "           1.0815e-01, -3.6852e-01,  1.1769e+00,  3.6211e-01,  1.7179e+00],\n",
              "         [-1.9826e-01, -2.5403e-01,  1.7986e+00, -3.7919e-01, -1.9922e+00,\n",
              "           2.8600e-01,  3.6437e-01,  1.3053e+00, -1.0339e+00, -6.3185e-02],\n",
              "         [ 4.1655e-01, -1.1312e+00,  1.1725e+00, -8.0306e-01,  3.7203e-02,\n",
              "          -7.1826e-01,  2.7864e-01, -1.0430e+00,  1.8080e+00, -1.6094e-01],\n",
              "         [-4.4797e-02,  3.4835e-01, -1.7220e+00,  9.6860e-01, -1.5191e+00,\n",
              "           4.9340e-01, -6.4549e-01, -1.5935e-01,  3.0288e-01,  9.2897e-01],\n",
              "         [ 1.0008e+00,  6.1711e-01,  2.8224e-02, -3.9517e-01, -9.8581e-01,\n",
              "           5.5955e-01,  5.1763e-01, -6.3860e-01, -3.0068e+00,  1.7827e+00],\n",
              "         [-3.5887e-01, -3.0373e-01,  4.5429e-01, -5.7391e-01,  2.9141e-01,\n",
              "           7.6882e-01, -9.3231e-01, -3.1206e-01,  3.1611e-01,  8.1016e-01],\n",
              "         [ 5.1806e-01,  7.4765e-01,  2.4437e-01,  8.3127e-01,  3.7897e-01,\n",
              "           2.2848e-01, -9.2932e-01, -9.4262e-01, -1.0815e+00,  2.1176e-01],\n",
              "         [-1.7886e+00,  5.2898e-01,  1.6210e-01,  9.3956e-01, -7.4840e-01,\n",
              "           9.6543e-02, -1.0123e+00, -5.1949e-01,  1.4976e+00,  1.1636e+00],\n",
              "         [ 2.8939e-01,  1.3509e-01, -9.8894e-01,  1.9175e+00, -4.7961e-01,\n",
              "          -3.0222e+00,  1.3955e+00,  6.9283e-02,  1.1570e+00,  1.2671e+00],\n",
              "         [ 7.8902e-01, -5.1163e-01,  5.5370e-01, -1.1258e+00,  1.0400e+00,\n",
              "          -9.5218e-01,  4.4010e-01,  4.8411e-01, -3.9249e-01,  1.1547e+00]],\n",
              "        dtype=torch.float64, requires_grad=True),\n",
              " tensor([[-8.5040e-01],\n",
              "         [-1.2630e+00],\n",
              "         [ 4.9059e-01],\n",
              "         [-1.4542e+00],\n",
              "         [ 6.5717e-01],\n",
              "         [-1.8525e+00],\n",
              "         [-2.9252e-01],\n",
              "         [ 4.0723e-01],\n",
              "         [ 5.3310e-04],\n",
              "         [ 5.6657e-01]], dtype=torch.float64, requires_grad=True),\n",
              " tensor([[ 0.7470,  1.3429, -0.7453,  0.3970, -0.3699],\n",
              "         [-0.4521,  0.5323,  0.8265,  0.1674,  0.9214],\n",
              "         [ 0.1921, -0.3928,  0.4222,  0.6025,  0.3949],\n",
              "         [-2.2774, -1.4614, -1.0064, -0.7912,  0.8124],\n",
              "         [ 0.9960,  0.0370,  1.0224,  2.3464,  1.6710],\n",
              "         [-0.6956, -0.1159, -0.5321, -1.7892, -0.3691],\n",
              "         [-0.3208, -0.6390,  2.6203, -0.6268, -2.0420],\n",
              "         [ 0.4603, -0.4676, -0.4039, -0.0518,  0.6161],\n",
              "         [ 0.7781,  0.1083,  0.6784,  0.3202,  1.9514],\n",
              "         [-1.4271,  0.2467, -1.0397, -0.1893,  0.0144]], dtype=torch.float64,\n",
              "        requires_grad=True),\n",
              " tensor([[ 0.7972],\n",
              "         [-0.5260],\n",
              "         [-0.1581],\n",
              "         [-0.4277],\n",
              "         [-0.0962]], dtype=torch.float64, requires_grad=True),\n",
              " tensor([[-1.3492],\n",
              "         [ 0.4529],\n",
              "         [-1.2065],\n",
              "         [ 0.2986],\n",
              "         [-0.3997]], dtype=torch.float64, requires_grad=True),\n",
              " tensor([[-0.2963]], dtype=torch.float64, requires_grad=True))"
            ]
          },
          "metadata": {},
          "execution_count": 12
        }
      ],
      "source": [
        "np.random.seed(410)\n",
        "\n",
        "n,p,d1,d2 = 100,15,10,5\n",
        "X = torch.tensor(np.random.normal(size=(n,p)), requires_grad=False)\n",
        "y = torch.tensor(np.random.normal(size=(n,1)), requires_grad=False)\n",
        "\n",
        "A1 = torch.tensor(np.random.normal(size=(p,d1)), requires_grad=True)\n",
        "b1 = torch.tensor(np.random.normal(size=(d1,1)), requires_grad=True)\n",
        "A2 = torch.tensor(np.random.normal(size=(d1,d2)), requires_grad=True)\n",
        "b2 = torch.tensor(np.random.normal(size=(d2,1)), requires_grad=True)\n",
        "beta = torch.tensor(np.random.normal(size=(d2,1)), requires_grad=True)\n",
        "beta0 = torch.tensor(np.random.normal(size=(1,1)), requires_grad=True)\n",
        "A1,b1,A2,b2,beta,beta0"
      ]
    },
    {
      "cell_type": "code",
      "execution_count": null,
      "metadata": {
        "id": "TELgbjoiyxkN"
      },
      "outputs": [],
      "source": [
        "# The following are all one liners based on\n",
        "f# only `.T` and `@` and `torch.` functions\n",
        "def relu(Z):\n",
        "    pass  # Complete\n",
        "\n",
        "def squaredL2(eps):\n",
        "    pass  # Complete\n",
        "\n",
        "def L1_penalty(A):\n",
        "    pass  # Complete\n",
        "\n",
        "def L2_penalty(A):\n",
        "    pass  # Complete\n",
        "\n",
        "def f(X):\n",
        "    pass  # Complete\n"
      ]
    },
    {
      "cell_type": "code",
      "execution_count": null,
      "metadata": {
        "id": "jIIYW6jJyg22"
      },
      "outputs": [],
      "source": [
        "alpha,K = 0.0001,2000\n",
        "lambda_1,lambda_2 = 0,0\n",
        "progress = np.zeros(K)\n",
        "for k in range(K):\n",
        "\n",
        "    y_hat = f(X)\n",
        "    cost = 0  # Complete\n",
        "\n",
        "    cost.backward()\n",
        "    # defines A1.grad, b1.grad, A2.grad, b2.grad\n",
        "    # with respect to all prior computations\n",
        "\n",
        "    # do no count these computations towards the gradient\n",
        "    with torch.no_grad():\n",
        "\n",
        "        # gradient descent\n",
        "        A1.data -= alpha*A1.grad\n",
        "        b1.data -= alpha*b1.grad\n",
        "        A2.data -= alpha*A2.grad\n",
        "        b2.data -= alpha*b2.grad\n",
        "        beta.data -= alpha*beta.grad\n",
        "        beta0.data -= alpha*beta0.grad\n",
        "\n",
        "        # reset the gradients\n",
        "        A1.grad.zero_()\n",
        "        b1.grad.zero_()\n",
        "        A2.grad.zero_()\n",
        "        b2.grad.zero_()\n",
        "        beta.grad.zero_()\n",
        "        beta0.grad.zero_()\n",
        "\n",
        "    progress[k] = squaredL2(y-f(X))\n",
        "\n",
        "plt.plot(progress[10:]);"
      ]
    },
    {
      "cell_type": "code",
      "execution_count": null,
      "metadata": {
        "id": "Rkt6qrunzA3e"
      },
      "outputs": [],
      "source": [
        "plt.plot(f(X).detach().numpy().flatten(), y.numpy().flatten(), '.')\n",
        "plt.title(\"Squared L2 Loss \"+str(progress[-1]));"
      ]
    },
    {
      "cell_type": "code",
      "execution_count": null,
      "metadata": {
        "id": "_jBop0cUt7Rj"
      },
      "outputs": [],
      "source": [
        "mtcars = sm.datasets.get_rdataset(\"mtcars\")\n",
        "y_ = mtcars.data[['mpg']].values\n",
        "y_ = y_-y_.mean()\n",
        "X_ = mtcars.data[['cyl', 'disp', 'hp', 'drat', 'wt', 'qsec', 'vs', 'am', 'gear','carb']].values\n",
        "X_ = (X_-X_.mean(axis=0))\n",
        "X_ = X_ / (X_**2).mean(axis=0)**0.5\n",
        "\n",
        "print(X.shape)\n",
        "\n",
        "n,p,d1,d2 = 20,10,5,5\n",
        "X = torch.tensor(X_[:n,:], requires_grad=False)\n",
        "y = torch.tensor(y_[:n], requires_grad=False)\n",
        "X_ = torch.tensor(X_[n:,:], requires_grad=False)\n",
        "y_ = torch.tensor(y_[n:], requires_grad=False)\n",
        "\n",
        "np.random.seed(410)\n",
        "\n",
        "A1 = torch.tensor(np.random.normal(size=(p,d1)), requires_grad=True)\n",
        "b1 = torch.tensor(np.random.normal(size=(d1,1)), requires_grad=True)\n",
        "A2 = torch.tensor(np.random.normal(size=(d1,d2)), requires_grad=True)\n",
        "b2 = torch.tensor(np.random.normal(size=(d2,1)), requires_grad=True)\n",
        "beta = torch.tensor(np.random.normal(size=(d2,1)), requires_grad=True)\n",
        "beta0 = torch.tensor(np.random.normal(size=(1,1)), requires_grad=True)\n",
        "A1,b1,A2,b2,beta,beta0"
      ]
    },
    {
      "cell_type": "code",
      "execution_count": null,
      "metadata": {
        "id": "1iYTzQDk2F7F"
      },
      "outputs": [],
      "source": [
        "alpha,K = 0.00005,2000\n",
        "lambda_1,lambda_2 = 0,0\n",
        "progress = np.zeros(K)\n",
        "performance = np.zeros(K)\n",
        "for k in range(K):\n",
        "\n",
        "    y_hat = f(X)\n",
        "    cost = 0  # Complete\n",
        "\n",
        "    cost.backward()\n",
        "    # defines A1.grad, b1.grad, A2.grad, b2.grad\n",
        "    # with respect to all prior computations\n",
        "\n",
        "    # do no count these computations towards the gradient\n",
        "    with torch.no_grad():\n",
        "\n",
        "        # gradient descent\n",
        "        A1.data -= alpha*A1.grad\n",
        "        b1.data -= alpha*b1.grad\n",
        "        A2.data -= alpha*A2.grad\n",
        "        b2.data -= alpha*b2.grad\n",
        "        beta.data -= alpha*beta.grad\n",
        "        beta0.data -= alpha*beta0.grad\n",
        "\n",
        "        # reset the gradients\n",
        "        A1.grad.zero_()\n",
        "        b1.grad.zero_()\n",
        "        A2.grad.zero_()\n",
        "        b2.grad.zero_()\n",
        "        beta.grad.zero_()\n",
        "        beta0.grad.zero_()\n",
        "\n",
        "    progress[k] = squaredL2(y-f(X))\n",
        "    performance[k] = squaredL2(y_-f(X_))\n",
        "\n",
        "plt.plot(progress[10:], label=\"in sample\")\n",
        "plt.plot(performance[10:], label=\"out of sample\")\n",
        "plt.legend();"
      ]
    },
    {
      "cell_type": "code",
      "execution_count": null,
      "metadata": {
        "id": "Lcw5TmLF2QYG"
      },
      "outputs": [],
      "source": [
        "min(performance)"
      ]
    },
    {
      "cell_type": "code",
      "execution_count": null,
      "metadata": {
        "id": "-Tfr0iHKgKd1"
      },
      "outputs": [],
      "source": [
        "plt.plot(f(X).detach().numpy().flatten(), y.numpy().flatten(), '.',\n",
        "         label = \"In sample squared L2 Loss\\n\"+str(progress[-1]))\n",
        "plt.plot(f(X_).detach().numpy().flatten(), y_.numpy().flatten(), '.',\n",
        "         label = \"Out of sample squared L2 Loss\\n\"+str(performance[-1]))\n",
        "plt.legend();"
      ]
    },
    {
      "cell_type": "code",
      "execution_count": null,
      "metadata": {
        "id": "u3SnroZ4e8I9"
      },
      "outputs": [],
      "source": []
    },
    {
      "cell_type": "code",
      "execution_count": null,
      "metadata": {
        "id": "YX2pQe933WTq"
      },
      "outputs": [],
      "source": []
    },
    {
      "cell_type": "code",
      "execution_count": null,
      "metadata": {
        "id": "GJ9PD3Yo37_3"
      },
      "outputs": [],
      "source": []
    },
    {
      "cell_type": "code",
      "execution_count": null,
      "metadata": {
        "id": "4hRj1iyVomYP"
      },
      "outputs": [],
      "source": []
    }
  ],
  "metadata": {
    "colab": {
      "provenance": [],
      "include_colab_link": true
    },
    "kernelspec": {
      "display_name": "Python 3 (ipykernel)",
      "language": "python",
      "name": "python3"
    },
    "language_info": {
      "codemirror_mode": {
        "name": "ipython",
        "version": 3
      },
      "file_extension": ".py",
      "mimetype": "text/x-python",
      "name": "python",
      "nbconvert_exporter": "python",
      "pygments_lexer": "ipython3",
      "version": "3.11.4"
    }
  },
  "nbformat": 4,
  "nbformat_minor": 0
}